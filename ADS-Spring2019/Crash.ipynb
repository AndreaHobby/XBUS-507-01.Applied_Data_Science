{
 "cells": [
  {
   "cell_type": "code",
   "execution_count": 1,
   "metadata": {},
   "outputs": [],
   "source": [
    "import numpy as np\n",
    "import pandas as pd\n",
    "import matplotlib.pyplot as plt\n",
    "from yellowbrick.features import Rank2D\n",
    "from sklearn.linear_model import LogisticRegression\n",
    "from sklearn.model_selection import train_test_split\n",
    "from sklearn.metrics import classification_report\n",
    "from sklearn.ensemble import RandomForestClassifier"
   ]
  },
  {
   "cell_type": "code",
   "execution_count": 2,
   "metadata": {},
   "outputs": [
    {
     "data": {
      "text/html": [
       "<div>\n",
       "<style scoped>\n",
       "    .dataframe tbody tr th:only-of-type {\n",
       "        vertical-align: middle;\n",
       "    }\n",
       "\n",
       "    .dataframe tbody tr th {\n",
       "        vertical-align: top;\n",
       "    }\n",
       "\n",
       "    .dataframe thead th {\n",
       "        text-align: right;\n",
       "    }\n",
       "</style>\n",
       "<table border=\"1\" class=\"dataframe\">\n",
       "  <thead>\n",
       "    <tr style=\"text-align: right;\">\n",
       "      <th></th>\n",
       "      <th>dvcat</th>\n",
       "      <th>weight</th>\n",
       "      <th>dead</th>\n",
       "      <th>airbag</th>\n",
       "      <th>seatbelt</th>\n",
       "      <th>frontal</th>\n",
       "      <th>sex</th>\n",
       "      <th>ageOFocc</th>\n",
       "      <th>yearacc</th>\n",
       "      <th>yearVeh</th>\n",
       "      <th>abcat</th>\n",
       "      <th>occRole</th>\n",
       "      <th>deploy</th>\n",
       "      <th>injSeverity</th>\n",
       "      <th>caseid</th>\n",
       "    </tr>\n",
       "  </thead>\n",
       "  <tbody>\n",
       "    <tr>\n",
       "      <th>1</th>\n",
       "      <td>25-39</td>\n",
       "      <td>25.069</td>\n",
       "      <td>1</td>\n",
       "      <td>none</td>\n",
       "      <td>belted</td>\n",
       "      <td>1</td>\n",
       "      <td>0</td>\n",
       "      <td>26</td>\n",
       "      <td>1997</td>\n",
       "      <td>1990.0</td>\n",
       "      <td>unavail</td>\n",
       "      <td>driver</td>\n",
       "      <td>0</td>\n",
       "      <td>3.0</td>\n",
       "      <td>2:3:1</td>\n",
       "    </tr>\n",
       "    <tr>\n",
       "      <th>2</th>\n",
       "      <td>10-24</td>\n",
       "      <td>25.069</td>\n",
       "      <td>1</td>\n",
       "      <td>airbag</td>\n",
       "      <td>belted</td>\n",
       "      <td>1</td>\n",
       "      <td>0</td>\n",
       "      <td>72</td>\n",
       "      <td>1997</td>\n",
       "      <td>1995.0</td>\n",
       "      <td>deploy</td>\n",
       "      <td>driver</td>\n",
       "      <td>1</td>\n",
       "      <td>1.0</td>\n",
       "      <td>2:3:2</td>\n",
       "    </tr>\n",
       "    <tr>\n",
       "      <th>3</th>\n",
       "      <td>10-24</td>\n",
       "      <td>32.379</td>\n",
       "      <td>1</td>\n",
       "      <td>none</td>\n",
       "      <td>none</td>\n",
       "      <td>1</td>\n",
       "      <td>0</td>\n",
       "      <td>69</td>\n",
       "      <td>1997</td>\n",
       "      <td>1988.0</td>\n",
       "      <td>unavail</td>\n",
       "      <td>driver</td>\n",
       "      <td>0</td>\n",
       "      <td>4.0</td>\n",
       "      <td>2:5:1</td>\n",
       "    </tr>\n",
       "    <tr>\n",
       "      <th>4</th>\n",
       "      <td>25-39</td>\n",
       "      <td>495.444</td>\n",
       "      <td>1</td>\n",
       "      <td>airbag</td>\n",
       "      <td>belted</td>\n",
       "      <td>1</td>\n",
       "      <td>0</td>\n",
       "      <td>53</td>\n",
       "      <td>1997</td>\n",
       "      <td>1995.0</td>\n",
       "      <td>deploy</td>\n",
       "      <td>driver</td>\n",
       "      <td>1</td>\n",
       "      <td>1.0</td>\n",
       "      <td>2:10:1</td>\n",
       "    </tr>\n",
       "    <tr>\n",
       "      <th>5</th>\n",
       "      <td>25-39</td>\n",
       "      <td>25.069</td>\n",
       "      <td>1</td>\n",
       "      <td>none</td>\n",
       "      <td>belted</td>\n",
       "      <td>1</td>\n",
       "      <td>0</td>\n",
       "      <td>32</td>\n",
       "      <td>1997</td>\n",
       "      <td>1988.0</td>\n",
       "      <td>unavail</td>\n",
       "      <td>driver</td>\n",
       "      <td>0</td>\n",
       "      <td>3.0</td>\n",
       "      <td>2:11:1</td>\n",
       "    </tr>\n",
       "  </tbody>\n",
       "</table>\n",
       "</div>"
      ],
      "text/plain": [
       "   dvcat   weight  dead  airbag seatbelt  frontal  sex  ageOFocc  yearacc  \\\n",
       "1  25-39   25.069     1    none   belted        1    0        26     1997   \n",
       "2  10-24   25.069     1  airbag   belted        1    0        72     1997   \n",
       "3  10-24   32.379     1    none     none        1    0        69     1997   \n",
       "4  25-39  495.444     1  airbag   belted        1    0        53     1997   \n",
       "5  25-39   25.069     1    none   belted        1    0        32     1997   \n",
       "\n",
       "   yearVeh    abcat occRole  deploy  injSeverity  caseid  \n",
       "1   1990.0  unavail  driver       0          3.0   2:3:1  \n",
       "2   1995.0   deploy  driver       1          1.0   2:3:2  \n",
       "3   1988.0  unavail  driver       0          4.0   2:5:1  \n",
       "4   1995.0   deploy  driver       1          1.0  2:10:1  \n",
       "5   1988.0  unavail  driver       0          3.0  2:11:1  "
      ]
     },
     "execution_count": 2,
     "metadata": {},
     "output_type": "execute_result"
    }
   ],
   "source": [
    "np.random.seed(0)\n",
    "\n",
    "#Load dataset\n",
    "dataset = pd.read_csv('crash.csv', header=0, index_col=0)\n",
    "\n",
    "\n",
    "#Create DataFrame\n",
    "df = pd.DataFrame(dataset) \n",
    "\n",
    "\n",
    "#new 'sex' column using floats instead of strings: 0 is female; 1 is male\n",
    "df['sex'] = pd.factorize(df['sex'])[0]\n",
    "df['dead'] = np.where(df['dead']=='alive', 1, 0)\n",
    "#df['airbag'] = np.where(df['dead']=='alive', 1, 0)\n",
    "\n",
    "\n",
    "#Show top rows\n",
    "df.head()"
   ]
  },
  {
   "cell_type": "code",
   "execution_count": 3,
   "metadata": {},
   "outputs": [
    {
     "name": "stdout",
     "output_type": "stream",
     "text": [
      "<class 'pandas.core.frame.DataFrame'>\n",
      "Int64Index: 26217 entries, 1 to 26217\n",
      "Data columns (total 15 columns):\n",
      "dvcat          26217 non-null object\n",
      "weight         26217 non-null float64\n",
      "dead           26217 non-null int32\n",
      "airbag         26217 non-null object\n",
      "seatbelt       26217 non-null object\n",
      "frontal        26217 non-null int64\n",
      "sex            26217 non-null int32\n",
      "ageOFocc       26217 non-null int64\n",
      "yearacc        26217 non-null int64\n",
      "yearVeh        26216 non-null float64\n",
      "abcat          26217 non-null object\n",
      "occRole        26217 non-null object\n",
      "deploy         26217 non-null int64\n",
      "injSeverity    26064 non-null float64\n",
      "caseid         26217 non-null object\n",
      "dtypes: float64(3), int32(2), int64(4), object(6)\n",
      "memory usage: 2.4+ MB\n"
     ]
    }
   ],
   "source": [
    "df.info()"
   ]
  },
  {
   "cell_type": "code",
   "execution_count": 4,
   "metadata": {},
   "outputs": [
    {
     "name": "stdout",
     "output_type": "stream",
     "text": [
      "             weight          dead       frontal           sex      ageOFocc  \\\n",
      "count  26217.000000  26217.000000  26217.000000  26217.000000  26217.000000   \n",
      "mean     462.811611      0.954991      0.643323      0.532822     37.206202   \n",
      "std     1524.844430      0.207328      0.479027      0.498931     17.909317   \n",
      "min        0.000000      0.000000      0.000000      0.000000     16.000000   \n",
      "25%       32.467000      1.000000      0.000000      0.000000     22.000000   \n",
      "50%       86.986000      1.000000      1.000000      1.000000     33.000000   \n",
      "75%      364.717000      1.000000      1.000000      1.000000     48.000000   \n",
      "max    57871.595000      1.000000      1.000000      1.000000     97.000000   \n",
      "\n",
      "            yearacc       yearVeh        deploy   injSeverity  \n",
      "count  26217.000000  26216.000000  26217.000000  26064.000000  \n",
      "mean    1999.555556   1992.804699      0.337033      1.715508  \n",
      "std        1.702546      5.594990      0.472705      1.293357  \n",
      "min     1997.000000   1953.000000      0.000000      0.000000  \n",
      "25%     1998.000000   1989.000000      0.000000      1.000000  \n",
      "50%     2000.000000   1994.000000      0.000000      2.000000  \n",
      "75%     2001.000000   1997.000000      1.000000      3.000000  \n",
      "max     2002.000000   2003.000000      1.000000      6.000000  \n"
     ]
    }
   ],
   "source": [
    "print(df.describe())"
   ]
  },
  {
   "cell_type": "markdown",
   "metadata": {},
   "source": [
    "#### yearVeh and Injury severity observe missing values."
   ]
  },
  {
   "cell_type": "code",
   "execution_count": 5,
   "metadata": {},
   "outputs": [
    {
     "name": "stdout",
     "output_type": "stream",
     "text": [
      "             weight          dead       frontal           sex      ageOFocc  \\\n",
      "count  26217.000000  26217.000000  26217.000000  26217.000000  26217.000000   \n",
      "mean     462.811611      0.954991      0.643323      0.532822     37.206202   \n",
      "std     1524.844430      0.207328      0.479027      0.498931     17.909317   \n",
      "min        0.000000      0.000000      0.000000      0.000000     16.000000   \n",
      "25%       32.467000      1.000000      0.000000      0.000000     22.000000   \n",
      "50%       86.986000      1.000000      1.000000      1.000000     33.000000   \n",
      "75%      364.717000      1.000000      1.000000      1.000000     48.000000   \n",
      "max    57871.595000      1.000000      1.000000      1.000000     97.000000   \n",
      "\n",
      "            yearacc       yearVeh        deploy   injSeverity  \n",
      "count  26217.000000  26217.000000  26217.000000  26217.000000  \n",
      "mean    1999.555556   1992.804745      0.337033      1.717168  \n",
      "std        1.702546      5.594888      0.472705      1.289760  \n",
      "min     1997.000000   1953.000000      0.000000      0.000000  \n",
      "25%     1998.000000   1989.000000      0.000000      1.000000  \n",
      "50%     2000.000000   1994.000000      0.000000      2.000000  \n",
      "75%     2001.000000   1997.000000      1.000000      3.000000  \n",
      "max     2002.000000   2003.000000      1.000000      6.000000  \n"
     ]
    }
   ],
   "source": [
    "df.fillna(df.median(),inplace=True)\n",
    "print(df.describe())"
   ]
  },
  {
   "cell_type": "code",
   "execution_count": 6,
   "metadata": {},
   "outputs": [
    {
     "data": {
      "text/html": [
       "<div>\n",
       "<style scoped>\n",
       "    .dataframe tbody tr th:only-of-type {\n",
       "        vertical-align: middle;\n",
       "    }\n",
       "\n",
       "    .dataframe tbody tr th {\n",
       "        vertical-align: top;\n",
       "    }\n",
       "\n",
       "    .dataframe thead th {\n",
       "        text-align: right;\n",
       "    }\n",
       "</style>\n",
       "<table border=\"1\" class=\"dataframe\">\n",
       "  <thead>\n",
       "    <tr style=\"text-align: right;\">\n",
       "      <th></th>\n",
       "      <th>weight</th>\n",
       "      <th>dead</th>\n",
       "      <th>frontal</th>\n",
       "      <th>sex</th>\n",
       "      <th>ageOFocc</th>\n",
       "      <th>yearacc</th>\n",
       "      <th>yearVeh</th>\n",
       "      <th>deploy</th>\n",
       "      <th>injSeverity</th>\n",
       "    </tr>\n",
       "  </thead>\n",
       "  <tbody>\n",
       "    <tr>\n",
       "      <th>weight</th>\n",
       "      <td>1.000000</td>\n",
       "      <td>0.057978</td>\n",
       "      <td>-0.009400</td>\n",
       "      <td>-0.012894</td>\n",
       "      <td>-0.030488</td>\n",
       "      <td>0.009643</td>\n",
       "      <td>-0.011240</td>\n",
       "      <td>-0.061727</td>\n",
       "      <td>-0.202912</td>\n",
       "    </tr>\n",
       "    <tr>\n",
       "      <th>dead</th>\n",
       "      <td>0.057978</td>\n",
       "      <td>1.000000</td>\n",
       "      <td>0.068028</td>\n",
       "      <td>-0.032181</td>\n",
       "      <td>-0.089814</td>\n",
       "      <td>0.018755</td>\n",
       "      <td>0.052437</td>\n",
       "      <td>0.011559</td>\n",
       "      <td>-0.369565</td>\n",
       "    </tr>\n",
       "    <tr>\n",
       "      <th>frontal</th>\n",
       "      <td>-0.009400</td>\n",
       "      <td>0.068028</td>\n",
       "      <td>1.000000</td>\n",
       "      <td>0.061673</td>\n",
       "      <td>-0.044253</td>\n",
       "      <td>0.014686</td>\n",
       "      <td>-0.028890</td>\n",
       "      <td>0.230715</td>\n",
       "      <td>-0.022767</td>\n",
       "    </tr>\n",
       "    <tr>\n",
       "      <th>sex</th>\n",
       "      <td>-0.012894</td>\n",
       "      <td>-0.032181</td>\n",
       "      <td>0.061673</td>\n",
       "      <td>1.000000</td>\n",
       "      <td>-0.048607</td>\n",
       "      <td>-0.003348</td>\n",
       "      <td>-0.094908</td>\n",
       "      <td>-0.035423</td>\n",
       "      <td>-0.041797</td>\n",
       "    </tr>\n",
       "    <tr>\n",
       "      <th>ageOFocc</th>\n",
       "      <td>-0.030488</td>\n",
       "      <td>-0.089814</td>\n",
       "      <td>-0.044253</td>\n",
       "      <td>-0.048607</td>\n",
       "      <td>1.000000</td>\n",
       "      <td>-0.006932</td>\n",
       "      <td>0.016446</td>\n",
       "      <td>0.008052</td>\n",
       "      <td>0.090817</td>\n",
       "    </tr>\n",
       "    <tr>\n",
       "      <th>yearacc</th>\n",
       "      <td>0.009643</td>\n",
       "      <td>0.018755</td>\n",
       "      <td>0.014686</td>\n",
       "      <td>-0.003348</td>\n",
       "      <td>-0.006932</td>\n",
       "      <td>1.000000</td>\n",
       "      <td>0.296381</td>\n",
       "      <td>0.120818</td>\n",
       "      <td>-0.041561</td>\n",
       "    </tr>\n",
       "    <tr>\n",
       "      <th>yearVeh</th>\n",
       "      <td>-0.011240</td>\n",
       "      <td>0.052437</td>\n",
       "      <td>-0.028890</td>\n",
       "      <td>-0.094908</td>\n",
       "      <td>0.016446</td>\n",
       "      <td>0.296381</td>\n",
       "      <td>1.000000</td>\n",
       "      <td>0.481915</td>\n",
       "      <td>-0.076658</td>\n",
       "    </tr>\n",
       "    <tr>\n",
       "      <th>deploy</th>\n",
       "      <td>-0.061727</td>\n",
       "      <td>0.011559</td>\n",
       "      <td>0.230715</td>\n",
       "      <td>-0.035423</td>\n",
       "      <td>0.008052</td>\n",
       "      <td>0.120818</td>\n",
       "      <td>0.481915</td>\n",
       "      <td>1.000000</td>\n",
       "      <td>0.063197</td>\n",
       "    </tr>\n",
       "    <tr>\n",
       "      <th>injSeverity</th>\n",
       "      <td>-0.202912</td>\n",
       "      <td>-0.369565</td>\n",
       "      <td>-0.022767</td>\n",
       "      <td>-0.041797</td>\n",
       "      <td>0.090817</td>\n",
       "      <td>-0.041561</td>\n",
       "      <td>-0.076658</td>\n",
       "      <td>0.063197</td>\n",
       "      <td>1.000000</td>\n",
       "    </tr>\n",
       "  </tbody>\n",
       "</table>\n",
       "</div>"
      ],
      "text/plain": [
       "               weight      dead   frontal       sex  ageOFocc   yearacc  \\\n",
       "weight       1.000000  0.057978 -0.009400 -0.012894 -0.030488  0.009643   \n",
       "dead         0.057978  1.000000  0.068028 -0.032181 -0.089814  0.018755   \n",
       "frontal     -0.009400  0.068028  1.000000  0.061673 -0.044253  0.014686   \n",
       "sex         -0.012894 -0.032181  0.061673  1.000000 -0.048607 -0.003348   \n",
       "ageOFocc    -0.030488 -0.089814 -0.044253 -0.048607  1.000000 -0.006932   \n",
       "yearacc      0.009643  0.018755  0.014686 -0.003348 -0.006932  1.000000   \n",
       "yearVeh     -0.011240  0.052437 -0.028890 -0.094908  0.016446  0.296381   \n",
       "deploy      -0.061727  0.011559  0.230715 -0.035423  0.008052  0.120818   \n",
       "injSeverity -0.202912 -0.369565 -0.022767 -0.041797  0.090817 -0.041561   \n",
       "\n",
       "              yearVeh    deploy  injSeverity  \n",
       "weight      -0.011240 -0.061727    -0.202912  \n",
       "dead         0.052437  0.011559    -0.369565  \n",
       "frontal     -0.028890  0.230715    -0.022767  \n",
       "sex         -0.094908 -0.035423    -0.041797  \n",
       "ageOFocc     0.016446  0.008052     0.090817  \n",
       "yearacc      0.296381  0.120818    -0.041561  \n",
       "yearVeh      1.000000  0.481915    -0.076658  \n",
       "deploy       0.481915  1.000000     0.063197  \n",
       "injSeverity -0.076658  0.063197     1.000000  "
      ]
     },
     "execution_count": 6,
     "metadata": {},
     "output_type": "execute_result"
    }
   ],
   "source": [
    "df.corr()"
   ]
  },
  {
   "cell_type": "markdown",
   "metadata": {},
   "source": [
    "#### Let's visualize to understand the dataset."
   ]
  },
  {
   "cell_type": "code",
   "execution_count": 7,
   "metadata": {},
   "outputs": [
    {
     "data": {
      "text/plain": [
       "Text(0, 0.5, 'Frequency')"
      ]
     },
     "execution_count": 7,
     "metadata": {},
     "output_type": "execute_result"
    },
    {
     "data": {
      "image/png": "[encoded data removed]",
      "text/plain": [
       "<Figure size 432x288 with 1 Axes>"
      ]
     },
     "metadata": {
      "needs_background": "light"
     },
     "output_type": "display_data"
    }
   ],
   "source": [
    "df.hist(column='sex')\n",
    "plt.xticks(range(0, 2))\n",
    "plt.xlabel(\"Gender\")\n",
    "plt.ylabel(\"Frequency\")"
   ]
  },
  {
   "cell_type": "code",
   "execution_count": 8,
   "metadata": {},
   "outputs": [
    {
     "data": {
      "text/plain": [
       "Text(0, 0.5, 'Frequency')"
      ]
     },
     "execution_count": 8,
     "metadata": {},
     "output_type": "execute_result"
    },
    {
     "data": {
      "image/png": "[encoded data removed]",
      "text/plain": [
       "<Figure size 432x288 with 1 Axes>"
      ]
     },
     "metadata": {
      "needs_background": "light"
     },
     "output_type": "display_data"
    }
   ],
   "source": [
    "df.hist(column='dead')\n",
    "plt.xticks(range(0, 2))\n",
    "plt.xlabel(\"Death/Alive\")\n",
    "plt.ylabel(\"Frequency\")"
   ]
  },
  {
   "cell_type": "code",
   "execution_count": 31,
   "metadata": {},
   "outputs": [
    {
     "data": {
      "text/plain": [
       "Text(0, 0.5, 'Frequency')"
      ]
     },
     "execution_count": 31,
     "metadata": {},
     "output_type": "execute_result"
    },
    {
     "data": {
      "image/png": "[encoded data removed]",
      "text/plain": [
       "<Figure size 432x288 with 1 Axes>"
      ]
     },
     "metadata": {
      "needs_background": "light"
     },
     "output_type": "display_data"
    }
   ],
   "source": [
    "df.hist(column='ageOFocc',bins=40)\n",
    "plt.xticks(range(18, 100,5))\n",
    "plt.xlabel(\"ageofocc\")\n",
    "plt.ylabel(\"Frequency\")"
   ]
  },
  {
   "cell_type": "code",
   "execution_count": 36,
   "metadata": {},
   "outputs": [
    {
     "data": {
      "text/plain": [
       "Text(0, 0.5, 'Frequency')"
      ]
     },
     "execution_count": 36,
     "metadata": {},
     "output_type": "execute_result"
    },
    {
     "data": {
      "image/png": "[encoded data removed]",
      "text/plain": [
       "<Figure size 432x288 with 1 Axes>"
      ]
     },
     "metadata": {
      "needs_background": "light"
     },
     "output_type": "display_data"
    }
   ],
   "source": [
    "df.hist(column='injSeverity')\n",
    "plt.xticks(range(1,5))\n",
    "plt.xlabel(\"Injury Severity\")\n",
    "plt.ylabel(\"Frequency\")"
   ]
  },
  {
   "cell_type": "code",
   "execution_count": 51,
   "metadata": {},
   "outputs": [
    {
     "data": {
      "text/html": [
       "<div>\n",
       "<style scoped>\n",
       "    .dataframe tbody tr th:only-of-type {\n",
       "        vertical-align: middle;\n",
       "    }\n",
       "\n",
       "    .dataframe tbody tr th {\n",
       "        vertical-align: top;\n",
       "    }\n",
       "\n",
       "    .dataframe thead th {\n",
       "        text-align: right;\n",
       "    }\n",
       "</style>\n",
       "<table border=\"1\" class=\"dataframe\">\n",
       "  <thead>\n",
       "    <tr style=\"text-align: right;\">\n",
       "      <th>airbag</th>\n",
       "      <th>airbag</th>\n",
       "      <th>none</th>\n",
       "    </tr>\n",
       "    <tr>\n",
       "      <th>dead</th>\n",
       "      <th></th>\n",
       "      <th></th>\n",
       "    </tr>\n",
       "  </thead>\n",
       "  <tbody>\n",
       "    <tr>\n",
       "      <th>0</th>\n",
       "      <td>0.433051</td>\n",
       "      <td>0.566949</td>\n",
       "    </tr>\n",
       "    <tr>\n",
       "      <th>1</th>\n",
       "      <td>0.555498</td>\n",
       "      <td>0.444502</td>\n",
       "    </tr>\n",
       "  </tbody>\n",
       "</table>\n",
       "</div>"
      ],
      "text/plain": [
       "airbag    airbag      none\n",
       "dead                      \n",
       "0       0.433051  0.566949\n",
       "1       0.555498  0.444502"
      ]
     },
     "execution_count": 51,
     "metadata": {},
     "output_type": "execute_result"
    }
   ],
   "source": [
    "Dead_airbag_crt=pd.crosstab(df[\"dead\"],df[\"airbag\"]).apply(lambda r: r/r.sum(), axis=1)\n",
    "Dead_airbag_crt"
   ]
  },
  {
   "cell_type": "code",
   "execution_count": 46,
   "metadata": {},
   "outputs": [
    {
     "data": {
      "text/html": [
       "<div>\n",
       "<style scoped>\n",
       "    .dataframe tbody tr th:only-of-type {\n",
       "        vertical-align: middle;\n",
       "    }\n",
       "\n",
       "    .dataframe tbody tr th {\n",
       "        vertical-align: top;\n",
       "    }\n",
       "\n",
       "    .dataframe thead th {\n",
       "        text-align: right;\n",
       "    }\n",
       "</style>\n",
       "<table border=\"1\" class=\"dataframe\">\n",
       "  <thead>\n",
       "    <tr style=\"text-align: right;\">\n",
       "      <th></th>\n",
       "      <th></th>\n",
       "      <th>Count</th>\n",
       "      <th>Percentage%</th>\n",
       "    </tr>\n",
       "    <tr>\n",
       "      <th>dead</th>\n",
       "      <th>seatbelt</th>\n",
       "      <th></th>\n",
       "      <th></th>\n",
       "    </tr>\n",
       "  </thead>\n",
       "  <tbody>\n",
       "    <tr>\n",
       "      <th rowspan=\"2\" valign=\"top\">1</th>\n",
       "      <th>belted</th>\n",
       "      <td>18073</td>\n",
       "      <td>68.936186</td>\n",
       "    </tr>\n",
       "    <tr>\n",
       "      <th>none</th>\n",
       "      <td>6964</td>\n",
       "      <td>26.562917</td>\n",
       "    </tr>\n",
       "    <tr>\n",
       "      <th rowspan=\"2\" valign=\"top\">0</th>\n",
       "      <th>none</th>\n",
       "      <td>680</td>\n",
       "      <td>2.593737</td>\n",
       "    </tr>\n",
       "    <tr>\n",
       "      <th>belted</th>\n",
       "      <td>500</td>\n",
       "      <td>1.907159</td>\n",
       "    </tr>\n",
       "  </tbody>\n",
       "</table>\n",
       "</div>"
      ],
      "text/plain": [
       "               Count  Percentage%\n",
       "dead seatbelt                    \n",
       "1    belted    18073    68.936186\n",
       "     none       6964    26.562917\n",
       "0    none        680     2.593737\n",
       "     belted      500     1.907159"
      ]
     },
     "execution_count": 46,
     "metadata": {},
     "output_type": "execute_result"
    }
   ],
   "source": [
    "Dead_seatbelt=df.groupby([\"dead\",\"seatbelt\"]).size().to_frame('Count')\n",
    "Dead_seatbelt['Percentage%']=Dead_seatbelt['Count']/Dead_seatbelt['Count'].sum()*100\n",
    "Dead_seatbelt.sort_values(by='Count', ascending=False)"
   ]
  },
  {
   "cell_type": "code",
   "execution_count": 52,
   "metadata": {},
   "outputs": [
    {
     "data": {
      "text/html": [
       "<div>\n",
       "<style scoped>\n",
       "    .dataframe tbody tr th:only-of-type {\n",
       "        vertical-align: middle;\n",
       "    }\n",
       "\n",
       "    .dataframe tbody tr th {\n",
       "        vertical-align: top;\n",
       "    }\n",
       "\n",
       "    .dataframe thead th {\n",
       "        text-align: right;\n",
       "    }\n",
       "</style>\n",
       "<table border=\"1\" class=\"dataframe\">\n",
       "  <thead>\n",
       "    <tr style=\"text-align: right;\">\n",
       "      <th>seatbelt</th>\n",
       "      <th>belted</th>\n",
       "      <th>none</th>\n",
       "    </tr>\n",
       "    <tr>\n",
       "      <th>dead</th>\n",
       "      <th></th>\n",
       "      <th></th>\n",
       "    </tr>\n",
       "  </thead>\n",
       "  <tbody>\n",
       "    <tr>\n",
       "      <th>0</th>\n",
       "      <td>0.423729</td>\n",
       "      <td>0.576271</td>\n",
       "    </tr>\n",
       "    <tr>\n",
       "      <th>1</th>\n",
       "      <td>0.721852</td>\n",
       "      <td>0.278148</td>\n",
       "    </tr>\n",
       "  </tbody>\n",
       "</table>\n",
       "</div>"
      ],
      "text/plain": [
       "seatbelt    belted      none\n",
       "dead                        \n",
       "0         0.423729  0.576271\n",
       "1         0.721852  0.278148"
      ]
     },
     "execution_count": 52,
     "metadata": {},
     "output_type": "execute_result"
    }
   ],
   "source": [
    "Dead_seatbelt_crt=pd.crosstab(df[\"dead\"],df[\"seatbelt\"]).apply(lambda r: r/r.sum(), axis=1)\n",
    "Dead_seatbelt_crt"
   ]
  },
  {
   "cell_type": "code",
   "execution_count": 54,
   "metadata": {},
   "outputs": [
    {
     "data": {
      "text/html": [
       "<div>\n",
       "<style scoped>\n",
       "    .dataframe tbody tr th:only-of-type {\n",
       "        vertical-align: middle;\n",
       "    }\n",
       "\n",
       "    .dataframe tbody tr th {\n",
       "        vertical-align: top;\n",
       "    }\n",
       "\n",
       "    .dataframe thead th {\n",
       "        text-align: right;\n",
       "    }\n",
       "</style>\n",
       "<table border=\"1\" class=\"dataframe\">\n",
       "  <thead>\n",
       "    <tr style=\"text-align: right;\">\n",
       "      <th>abcat</th>\n",
       "      <th>deploy</th>\n",
       "      <th>nodeploy</th>\n",
       "      <th>unavail</th>\n",
       "    </tr>\n",
       "    <tr>\n",
       "      <th>dead</th>\n",
       "      <th></th>\n",
       "      <th></th>\n",
       "      <th></th>\n",
       "    </tr>\n",
       "  </thead>\n",
       "  <tbody>\n",
       "    <tr>\n",
       "      <th>0</th>\n",
       "      <td>0.311864</td>\n",
       "      <td>0.121186</td>\n",
       "      <td>0.566949</td>\n",
       "    </tr>\n",
       "    <tr>\n",
       "      <th>1</th>\n",
       "      <td>0.338219</td>\n",
       "      <td>0.217278</td>\n",
       "      <td>0.444502</td>\n",
       "    </tr>\n",
       "  </tbody>\n",
       "</table>\n",
       "</div>"
      ],
      "text/plain": [
       "abcat    deploy  nodeploy   unavail\n",
       "dead                               \n",
       "0      0.311864  0.121186  0.566949\n",
       "1      0.338219  0.217278  0.444502"
      ]
     },
     "execution_count": 54,
     "metadata": {},
     "output_type": "execute_result"
    }
   ],
   "source": [
    "Dead_abcat_crt=pd.crosstab(df[\"dead\"],df[\"abcat\"]).apply(lambda r: r/r.sum(), axis=1)\n",
    "Dead_abcat_crt"
   ]
  },
  {
   "cell_type": "code",
   "execution_count": 55,
   "metadata": {},
   "outputs": [
    {
     "data": {
      "text/html": [
       "<div>\n",
       "<style scoped>\n",
       "    .dataframe tbody tr th:only-of-type {\n",
       "        vertical-align: middle;\n",
       "    }\n",
       "\n",
       "    .dataframe tbody tr th {\n",
       "        vertical-align: top;\n",
       "    }\n",
       "\n",
       "    .dataframe thead th {\n",
       "        text-align: right;\n",
       "    }\n",
       "</style>\n",
       "<table border=\"1\" class=\"dataframe\">\n",
       "  <thead>\n",
       "    <tr style=\"text-align: right;\">\n",
       "      <th>occRole</th>\n",
       "      <th>driver</th>\n",
       "      <th>pass</th>\n",
       "    </tr>\n",
       "    <tr>\n",
       "      <th>dead</th>\n",
       "      <th></th>\n",
       "      <th></th>\n",
       "    </tr>\n",
       "  </thead>\n",
       "  <tbody>\n",
       "    <tr>\n",
       "      <th>0</th>\n",
       "      <td>0.755085</td>\n",
       "      <td>0.244915</td>\n",
       "    </tr>\n",
       "    <tr>\n",
       "      <th>1</th>\n",
       "      <td>0.787235</td>\n",
       "      <td>0.212765</td>\n",
       "    </tr>\n",
       "  </tbody>\n",
       "</table>\n",
       "</div>"
      ],
      "text/plain": [
       "occRole    driver      pass\n",
       "dead                       \n",
       "0        0.755085  0.244915\n",
       "1        0.787235  0.212765"
      ]
     },
     "execution_count": 55,
     "metadata": {},
     "output_type": "execute_result"
    }
   ],
   "source": [
    "Dead_occRole=pd.crosstab(df[\"dead\"],df[\"occRole\"]).apply(lambda r: r/r.sum(), axis=1)\n",
    "Dead_occRole"
   ]
  },
  {
   "cell_type": "code",
   "execution_count": 75,
   "metadata": {},
   "outputs": [
    {
     "data": {
      "text/html": [
       "<div>\n",
       "<style scoped>\n",
       "    .dataframe tbody tr th:only-of-type {\n",
       "        vertical-align: middle;\n",
       "    }\n",
       "\n",
       "    .dataframe tbody tr th {\n",
       "        vertical-align: top;\n",
       "    }\n",
       "\n",
       "    .dataframe thead th {\n",
       "        text-align: right;\n",
       "    }\n",
       "</style>\n",
       "<table border=\"1\" class=\"dataframe\">\n",
       "  <thead>\n",
       "    <tr style=\"text-align: right;\">\n",
       "      <th></th>\n",
       "      <th>weight</th>\n",
       "      <th>dead</th>\n",
       "      <th>frontal</th>\n",
       "      <th>sex</th>\n",
       "      <th>ageOFocc</th>\n",
       "      <th>yearacc</th>\n",
       "      <th>yearVeh</th>\n",
       "      <th>deploy</th>\n",
       "      <th>injSeverity</th>\n",
       "      <th>dvcat_1-9km/h</th>\n",
       "      <th>...</th>\n",
       "      <th>dvcat_55+</th>\n",
       "      <th>airbag_airbag</th>\n",
       "      <th>airbag_none</th>\n",
       "      <th>seatbelt_belted</th>\n",
       "      <th>seatbelt_none</th>\n",
       "      <th>abcat_deploy</th>\n",
       "      <th>abcat_nodeploy</th>\n",
       "      <th>abcat_unavail</th>\n",
       "      <th>occRole_driver</th>\n",
       "      <th>occRole_pass</th>\n",
       "    </tr>\n",
       "  </thead>\n",
       "  <tbody>\n",
       "    <tr>\n",
       "      <th>1</th>\n",
       "      <td>25.069</td>\n",
       "      <td>1</td>\n",
       "      <td>1</td>\n",
       "      <td>0</td>\n",
       "      <td>26</td>\n",
       "      <td>1997</td>\n",
       "      <td>1990.0</td>\n",
       "      <td>0</td>\n",
       "      <td>3.0</td>\n",
       "      <td>0</td>\n",
       "      <td>...</td>\n",
       "      <td>0</td>\n",
       "      <td>0</td>\n",
       "      <td>1</td>\n",
       "      <td>1</td>\n",
       "      <td>0</td>\n",
       "      <td>0</td>\n",
       "      <td>0</td>\n",
       "      <td>1</td>\n",
       "      <td>1</td>\n",
       "      <td>0</td>\n",
       "    </tr>\n",
       "    <tr>\n",
       "      <th>2</th>\n",
       "      <td>25.069</td>\n",
       "      <td>1</td>\n",
       "      <td>1</td>\n",
       "      <td>0</td>\n",
       "      <td>72</td>\n",
       "      <td>1997</td>\n",
       "      <td>1995.0</td>\n",
       "      <td>1</td>\n",
       "      <td>1.0</td>\n",
       "      <td>0</td>\n",
       "      <td>...</td>\n",
       "      <td>0</td>\n",
       "      <td>1</td>\n",
       "      <td>0</td>\n",
       "      <td>1</td>\n",
       "      <td>0</td>\n",
       "      <td>1</td>\n",
       "      <td>0</td>\n",
       "      <td>0</td>\n",
       "      <td>1</td>\n",
       "      <td>0</td>\n",
       "    </tr>\n",
       "    <tr>\n",
       "      <th>3</th>\n",
       "      <td>32.379</td>\n",
       "      <td>1</td>\n",
       "      <td>1</td>\n",
       "      <td>0</td>\n",
       "      <td>69</td>\n",
       "      <td>1997</td>\n",
       "      <td>1988.0</td>\n",
       "      <td>0</td>\n",
       "      <td>4.0</td>\n",
       "      <td>0</td>\n",
       "      <td>...</td>\n",
       "      <td>0</td>\n",
       "      <td>0</td>\n",
       "      <td>1</td>\n",
       "      <td>0</td>\n",
       "      <td>1</td>\n",
       "      <td>0</td>\n",
       "      <td>0</td>\n",
       "      <td>1</td>\n",
       "      <td>1</td>\n",
       "      <td>0</td>\n",
       "    </tr>\n",
       "    <tr>\n",
       "      <th>4</th>\n",
       "      <td>495.444</td>\n",
       "      <td>1</td>\n",
       "      <td>1</td>\n",
       "      <td>0</td>\n",
       "      <td>53</td>\n",
       "      <td>1997</td>\n",
       "      <td>1995.0</td>\n",
       "      <td>1</td>\n",
       "      <td>1.0</td>\n",
       "      <td>0</td>\n",
       "      <td>...</td>\n",
       "      <td>0</td>\n",
       "      <td>1</td>\n",
       "      <td>0</td>\n",
       "      <td>1</td>\n",
       "      <td>0</td>\n",
       "      <td>1</td>\n",
       "      <td>0</td>\n",
       "      <td>0</td>\n",
       "      <td>1</td>\n",
       "      <td>0</td>\n",
       "    </tr>\n",
       "    <tr>\n",
       "      <th>5</th>\n",
       "      <td>25.069</td>\n",
       "      <td>1</td>\n",
       "      <td>1</td>\n",
       "      <td>0</td>\n",
       "      <td>32</td>\n",
       "      <td>1997</td>\n",
       "      <td>1988.0</td>\n",
       "      <td>0</td>\n",
       "      <td>3.0</td>\n",
       "      <td>0</td>\n",
       "      <td>...</td>\n",
       "      <td>0</td>\n",
       "      <td>0</td>\n",
       "      <td>1</td>\n",
       "      <td>1</td>\n",
       "      <td>0</td>\n",
       "      <td>0</td>\n",
       "      <td>0</td>\n",
       "      <td>1</td>\n",
       "      <td>1</td>\n",
       "      <td>0</td>\n",
       "    </tr>\n",
       "  </tbody>\n",
       "</table>\n",
       "<p>5 rows × 23 columns</p>\n",
       "</div>"
      ],
      "text/plain": [
       "    weight  dead  frontal  sex  ageOFocc  yearacc  yearVeh  deploy  \\\n",
       "1   25.069     1        1    0        26     1997   1990.0       0   \n",
       "2   25.069     1        1    0        72     1997   1995.0       1   \n",
       "3   32.379     1        1    0        69     1997   1988.0       0   \n",
       "4  495.444     1        1    0        53     1997   1995.0       1   \n",
       "5   25.069     1        1    0        32     1997   1988.0       0   \n",
       "\n",
       "   injSeverity  dvcat_1-9km/h  ...  dvcat_55+  airbag_airbag  airbag_none  \\\n",
       "1          3.0              0  ...          0              0            1   \n",
       "2          1.0              0  ...          0              1            0   \n",
       "3          4.0              0  ...          0              0            1   \n",
       "4          1.0              0  ...          0              1            0   \n",
       "5          3.0              0  ...          0              0            1   \n",
       "\n",
       "   seatbelt_belted  seatbelt_none  abcat_deploy  abcat_nodeploy  \\\n",
       "1                1              0             0               0   \n",
       "2                1              0             1               0   \n",
       "3                0              1             0               0   \n",
       "4                1              0             1               0   \n",
       "5                1              0             0               0   \n",
       "\n",
       "   abcat_unavail  occRole_driver  occRole_pass  \n",
       "1              1               1             0  \n",
       "2              0               1             0  \n",
       "3              1               1             0  \n",
       "4              0               1             0  \n",
       "5              1               1             0  \n",
       "\n",
       "[5 rows x 23 columns]"
      ]
     },
     "execution_count": 75,
     "metadata": {},
     "output_type": "execute_result"
    }
   ],
   "source": [
    "df_dummies = pd.get_dummies(df,columns=['dvcat','airbag','seatbelt','abcat','occRole'])\n",
    "df_dummies.drop(['caseid'],axis=1,inplace=True)\n",
    "df_dummies.head()"
   ]
  },
  {
   "cell_type": "code",
   "execution_count": 76,
   "metadata": {},
   "outputs": [
    {
     "name": "stdout",
     "output_type": "stream",
     "text": [
      "<class 'pandas.core.frame.DataFrame'>\n",
      "Int64Index: 26217 entries, 1 to 26217\n",
      "Data columns (total 23 columns):\n",
      "weight             26217 non-null int64\n",
      "dead               26217 non-null int64\n",
      "frontal            26217 non-null int64\n",
      "sex                26217 non-null int64\n",
      "ageOFocc           26217 non-null int64\n",
      "yearacc            26217 non-null int64\n",
      "yearVeh            26217 non-null int64\n",
      "deploy             26217 non-null int64\n",
      "injSeverity        26217 non-null int64\n",
      "dvcat_1-9km/h      26217 non-null int64\n",
      "dvcat_10-24        26217 non-null int64\n",
      "dvcat_25-39        26217 non-null int64\n",
      "dvcat_40-54        26217 non-null int64\n",
      "dvcat_55+          26217 non-null int64\n",
      "airbag_airbag      26217 non-null int64\n",
      "airbag_none        26217 non-null int64\n",
      "seatbelt_belted    26217 non-null int64\n",
      "seatbelt_none      26217 non-null int64\n",
      "abcat_deploy       26217 non-null int64\n",
      "abcat_nodeploy     26217 non-null int64\n",
      "abcat_unavail      26217 non-null int64\n",
      "occRole_driver     26217 non-null int64\n",
      "occRole_pass       26217 non-null int64\n",
      "dtypes: int64(23)\n",
      "memory usage: 6.1 MB\n"
     ]
    }
   ],
   "source": [
    "df_dummies=df_dummies.astype('int64', copy=False)\n",
    "\n",
    "df_dummies.info()"
   ]
  },
  {
   "cell_type": "code",
   "execution_count": 77,
   "metadata": {},
   "outputs": [],
   "source": [
    "y=df_dummies['dead']\n",
    "X=df_dummies.drop(['dead'],axis=1)"
   ]
  },
  {
   "cell_type": "code",
   "execution_count": 78,
   "metadata": {},
   "outputs": [
    {
     "data": {
      "image/png": "[encoded data removed]",
      "text/plain": [
       "<Figure size 1080x1080 with 2 Axes>"
      ]
     },
     "metadata": {},
     "output_type": "display_data"
    }
   ],
   "source": [
    "visualizer = Rank2D(algorithm='pearson', size=(1080, 1080))\n",
    "\n",
    "visualizer.fit(X, y)\n",
    "visualizer.transform(X)\n",
    "visualizer.poof()"
   ]
  },
  {
   "cell_type": "code",
   "execution_count": 82,
   "metadata": {},
   "outputs": [
    {
     "name": "stdout",
     "output_type": "stream",
     "text": [
      "X_train Shape: (18351, 22)\n",
      "X_test Shape: (7866, 22)\n",
      "y_train Shape: (18351,)\n",
      "y_test Shape: (7866,)\n"
     ]
    }
   ],
   "source": [
    "X_train, X_test, y_train, y_test = train_test_split(X, y, test_size=0.3, random_state=0)\n",
    "print('X_train Shape:', X_train.shape)\n",
    "print('X_test Shape:', X_test.shape)\n",
    "print('y_train Shape:', y_train.shape)\n",
    "print('y_test Shape:', y_test.shape)"
   ]
  },
  {
   "cell_type": "code",
   "execution_count": 84,
   "metadata": {},
   "outputs": [
    {
     "data": {
      "text/plain": [
       "LogisticRegression(C=1.0, class_weight=None, dual=False, fit_intercept=True,\n",
       "                   intercept_scaling=1, l1_ratio=None, max_iter=100,\n",
       "                   multi_class='warn', n_jobs=None, penalty='l2',\n",
       "                   random_state=0, solver='liblinear', tol=0.0001, verbose=0,\n",
       "                   warm_start=False)"
      ]
     },
     "execution_count": 84,
     "metadata": {},
     "output_type": "execute_result"
    }
   ],
   "source": [
    "classifier = LogisticRegression(random_state=0,solver='liblinear')\n",
    "classifier.fit(X_train, y_train)"
   ]
  },
  {
   "cell_type": "code",
   "execution_count": 85,
   "metadata": {},
   "outputs": [
    {
     "name": "stdout",
     "output_type": "stream",
     "text": [
      "[[ 282   67]\n",
      " [  40 7477]]\n"
     ]
    }
   ],
   "source": [
    "y_pred = classifier.predict(X_test)\n",
    "from sklearn.metrics import confusion_matrix\n",
    "confusion_matrix = confusion_matrix(y_test, y_pred)\n",
    "print(confusion_matrix)"
   ]
  },
  {
   "cell_type": "code",
   "execution_count": 88,
   "metadata": {},
   "outputs": [
    {
     "name": "stdout",
     "output_type": "stream",
     "text": [
      "              precision    recall  f1-score   support\n",
      "\n",
      "           0       0.88      0.81      0.84       349\n",
      "           1       0.99      0.99      0.99      7517\n",
      "\n",
      "    accuracy                           0.99      7866\n",
      "   macro avg       0.93      0.90      0.92      7866\n",
      "weighted avg       0.99      0.99      0.99      7866\n",
      "\n"
     ]
    }
   ],
   "source": [
    "print(classification_report(y_test, y_pred))"
   ]
  },
  {
   "cell_type": "code",
   "execution_count": 90,
   "metadata": {},
   "outputs": [
    {
     "data": {
      "image/png": "[encoded data removed]",
      "text/plain": [
       "<Figure size 576x396 with 1 Axes>"
      ]
     },
     "metadata": {},
     "output_type": "display_data"
    }
   ],
   "source": [
    "from sklearn.metrics import roc_auc_score\n",
    "from sklearn.metrics import roc_curve\n",
    "logit_roc_auc = roc_auc_score(y_test, classifier.predict(X_test))\n",
    "fpr, tpr, thresholds = roc_curve(y_test, classifier.predict_proba(X_test)[:,1])\n",
    "plt.figure()\n",
    "plt.plot(fpr, tpr, label='Logistic Regression (area = %0.2f)' % logit_roc_auc)\n",
    "plt.plot([0, 1], [0, 1],'r--')\n",
    "plt.xlim([0.0, 1.0])\n",
    "plt.ylim([0.0, 1.05])\n",
    "plt.xlabel('False Positive Rate')\n",
    "plt.ylabel('True Positive Rate')\n",
    "plt.title('Receiver operating characteristic')\n",
    "plt.legend(loc=\"lower right\")\n",
    "plt.savefig('Log_ROC')\n",
    "plt.show()"
   ]
  },
  {
   "cell_type": "code",
   "execution_count": null,
   "metadata": {},
   "outputs": [],
   "source": []
  }
 ],
 "metadata": {
  "kernelspec": {
   "display_name": "Python 3",
   "language": "python",
   "name": "python3"
  },
  "language_info": {
   "codemirror_mode": {
    "name": "ipython",
    "version": 3
   },
   "file_extension": ".py",
   "mimetype": "text/x-python",
   "name": "python",
   "nbconvert_exporter": "python",
   "pygments_lexer": "ipython3",
   "version": "3.7.1"
  }
 },
 "nbformat": 4,
 "nbformat_minor": 2
}
