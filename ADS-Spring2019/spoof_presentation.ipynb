{
 "cells": [
  {
   "cell_type": "code",
   "execution_count": 1,
   "metadata": {},
   "outputs": [],
   "source": [
    "import pandas\n",
    "from sklearn.metrics import f1_score\n",
    "from sklearn.metrics import accuracy_score\n",
    "import matplotlib.pyplot as plt; plt.rcdefaults()\n",
    "import numpy as np\n",
    "from sklearn import preprocessing\n",
    "import matplotlib.pyplot as plt\n",
    "import seaborn as sns\n",
    "from sklearn.model_selection import train_test_split\n",
    "from sklearn.neighbors import KNeighborsClassifier\n",
    "from sklearn.preprocessing import LabelEncoder\n",
    "from yellowbrick.text import TSNEVisualizer"
   ]
  },
  {
   "cell_type": "code",
   "execution_count": 2,
   "metadata": {},
   "outputs": [],
   "source": [
    "DF_FL0 = pandas.read_excel('/Users/alice.naghshineh/Desktop/michael_data/Florida.xlsx')\n",
    "\n",
    "DF_Dependent = DF_FL0[['Q12PresidentialVote']].copy()\n",
    "\n",
    "DF_Independent = DF_FL0[[\n",
    " 'Party',\n",
    " 'Issue',\n",
    " 'Hispanic',\n",
    " 'Race',\n",
    " 'Marital Status',\n",
    " 'Education',\n",
    " 'Age',\n",
    " 'Gender',\n",
    " 'Raceparty',\n",
    " 'Genderparty']]\n",
    "\n",
    "DF_FL0 = DF_FL0.drop(['Q8Clinton', 'Q9Trump'], axis=1)"
   ]
  },
  {
   "cell_type": "code",
   "execution_count": 3,
   "metadata": {},
   "outputs": [
    {
     "data": {
      "text/html": [
       "<div>\n",
       "<style scoped>\n",
       "    .dataframe tbody tr th:only-of-type {\n",
       "        vertical-align: middle;\n",
       "    }\n",
       "\n",
       "    .dataframe tbody tr th {\n",
       "        vertical-align: top;\n",
       "    }\n",
       "\n",
       "    .dataframe thead th {\n",
       "        text-align: right;\n",
       "    }\n",
       "</style>\n",
       "<table border=\"1\" class=\"dataframe\">\n",
       "  <thead>\n",
       "    <tr style=\"text-align: right;\">\n",
       "      <th></th>\n",
       "      <th>Registered</th>\n",
       "      <th>Plan to Vote</th>\n",
       "      <th>First Time</th>\n",
       "      <th>Party</th>\n",
       "      <th>Q12PresidentialVote</th>\n",
       "      <th>Issue</th>\n",
       "      <th>Motivation</th>\n",
       "      <th>Participation</th>\n",
       "      <th>Hispanic</th>\n",
       "      <th>Race</th>\n",
       "      <th>Marital Status</th>\n",
       "      <th>Education</th>\n",
       "      <th>Age</th>\n",
       "      <th>Gender</th>\n",
       "      <th>Raceparty</th>\n",
       "      <th>Genderparty</th>\n",
       "    </tr>\n",
       "  </thead>\n",
       "  <tbody>\n",
       "    <tr>\n",
       "      <th>0</th>\n",
       "      <td>Yes</td>\n",
       "      <td>Yes</td>\n",
       "      <td>No</td>\n",
       "      <td>Independent</td>\n",
       "      <td>Trump</td>\n",
       "      <td>Economy</td>\n",
       "      <td>Support State</td>\n",
       "      <td>President And Party</td>\n",
       "      <td>Yes</td>\n",
       "      <td>Hispanic</td>\n",
       "      <td>Married</td>\n",
       "      <td>Some College</td>\n",
       "      <td>50 64</td>\n",
       "      <td>Male</td>\n",
       "      <td>Hispanic Independent</td>\n",
       "      <td>Hispanic Male</td>\n",
       "    </tr>\n",
       "    <tr>\n",
       "      <th>1</th>\n",
       "      <td>Yes</td>\n",
       "      <td>Yes</td>\n",
       "      <td>No</td>\n",
       "      <td>Republican</td>\n",
       "      <td>Trump</td>\n",
       "      <td>Terrorism</td>\n",
       "      <td>Issue</td>\n",
       "      <td>President And Party</td>\n",
       "      <td>No</td>\n",
       "      <td>White Caucasian</td>\n",
       "      <td>Married</td>\n",
       "      <td>High School Graduate</td>\n",
       "      <td>65 Or Older</td>\n",
       "      <td>Male</td>\n",
       "      <td>White Caucasian Republican</td>\n",
       "      <td>White Caucasian Male</td>\n",
       "    </tr>\n",
       "    <tr>\n",
       "      <th>2</th>\n",
       "      <td>Yes</td>\n",
       "      <td>Yes</td>\n",
       "      <td>No</td>\n",
       "      <td>Republican</td>\n",
       "      <td>Trump</td>\n",
       "      <td>Economy</td>\n",
       "      <td>Issue</td>\n",
       "      <td>Different Parties</td>\n",
       "      <td>No</td>\n",
       "      <td>White Caucasian</td>\n",
       "      <td>Married</td>\n",
       "      <td>Bachelors Degree</td>\n",
       "      <td>30 49</td>\n",
       "      <td>Female</td>\n",
       "      <td>White Caucasian Republican</td>\n",
       "      <td>White Caucasian Female</td>\n",
       "    </tr>\n",
       "    <tr>\n",
       "      <th>3</th>\n",
       "      <td>Yes</td>\n",
       "      <td>Yes</td>\n",
       "      <td>No</td>\n",
       "      <td>Republican</td>\n",
       "      <td>Clinton</td>\n",
       "      <td>Healthcare</td>\n",
       "      <td>Other</td>\n",
       "      <td>Different Parties</td>\n",
       "      <td>No</td>\n",
       "      <td>African American</td>\n",
       "      <td>Married</td>\n",
       "      <td>Some High School</td>\n",
       "      <td>50 64</td>\n",
       "      <td>Female</td>\n",
       "      <td>African American Republican</td>\n",
       "      <td>African American Female</td>\n",
       "    </tr>\n",
       "    <tr>\n",
       "      <th>4</th>\n",
       "      <td>Yes</td>\n",
       "      <td>Yes</td>\n",
       "      <td>No</td>\n",
       "      <td>Democrat</td>\n",
       "      <td>Trump</td>\n",
       "      <td>Terrorism</td>\n",
       "      <td>Support Candidate</td>\n",
       "      <td>President And Party</td>\n",
       "      <td>No</td>\n",
       "      <td>African American</td>\n",
       "      <td>Single</td>\n",
       "      <td>Some College</td>\n",
       "      <td>65 Or Older</td>\n",
       "      <td>Male</td>\n",
       "      <td>African American Democrat</td>\n",
       "      <td>African American Male</td>\n",
       "    </tr>\n",
       "    <tr>\n",
       "      <th>5</th>\n",
       "      <td>No</td>\n",
       "      <td>No</td>\n",
       "      <td>No</td>\n",
       "      <td>Democrat</td>\n",
       "      <td>Clinton</td>\n",
       "      <td>Healthcare</td>\n",
       "      <td>Other</td>\n",
       "      <td>Only President</td>\n",
       "      <td>No</td>\n",
       "      <td>White Caucasian</td>\n",
       "      <td>Divorced</td>\n",
       "      <td>Some College</td>\n",
       "      <td>65 Or Older</td>\n",
       "      <td>Male</td>\n",
       "      <td>White Caucasian Democrat</td>\n",
       "      <td>White Caucasian Male</td>\n",
       "    </tr>\n",
       "    <tr>\n",
       "      <th>6</th>\n",
       "      <td>Yes</td>\n",
       "      <td>Yes</td>\n",
       "      <td>No</td>\n",
       "      <td>Republican</td>\n",
       "      <td>Trump</td>\n",
       "      <td>Economy</td>\n",
       "      <td>Issue</td>\n",
       "      <td>President And Party</td>\n",
       "      <td>No</td>\n",
       "      <td>Other</td>\n",
       "      <td>Married</td>\n",
       "      <td>High School Graduate</td>\n",
       "      <td>65 Or Older</td>\n",
       "      <td>Female</td>\n",
       "      <td>Other Republican</td>\n",
       "      <td>Other Female</td>\n",
       "    </tr>\n",
       "    <tr>\n",
       "      <th>7</th>\n",
       "      <td>Yes</td>\n",
       "      <td>Yes</td>\n",
       "      <td>No</td>\n",
       "      <td>Republican</td>\n",
       "      <td>Trump</td>\n",
       "      <td>Terrorism</td>\n",
       "      <td>Support Candidate</td>\n",
       "      <td>Different Parties</td>\n",
       "      <td>No</td>\n",
       "      <td>White Caucasian</td>\n",
       "      <td>Married</td>\n",
       "      <td>Post Graduate</td>\n",
       "      <td>65 Or Older</td>\n",
       "      <td>Male</td>\n",
       "      <td>White Caucasian Republican</td>\n",
       "      <td>White Caucasian Male</td>\n",
       "    </tr>\n",
       "    <tr>\n",
       "      <th>8</th>\n",
       "      <td>Yes</td>\n",
       "      <td>Yes</td>\n",
       "      <td>No</td>\n",
       "      <td>Democrat</td>\n",
       "      <td>Clinton</td>\n",
       "      <td>Terrorism</td>\n",
       "      <td>Support Candidate</td>\n",
       "      <td>President And Party</td>\n",
       "      <td>No</td>\n",
       "      <td>White Caucasian</td>\n",
       "      <td>Married</td>\n",
       "      <td>Bachelors Degree</td>\n",
       "      <td>65 Or Older</td>\n",
       "      <td>Female</td>\n",
       "      <td>White Caucasian Democrat</td>\n",
       "      <td>White Caucasian Female</td>\n",
       "    </tr>\n",
       "    <tr>\n",
       "      <th>9</th>\n",
       "      <td>Yes</td>\n",
       "      <td>Yes</td>\n",
       "      <td>No</td>\n",
       "      <td>Republican</td>\n",
       "      <td>Clinton</td>\n",
       "      <td>Education</td>\n",
       "      <td>Other</td>\n",
       "      <td>Different Parties</td>\n",
       "      <td>No</td>\n",
       "      <td>White Caucasian</td>\n",
       "      <td>Married</td>\n",
       "      <td>Bachelors Degree</td>\n",
       "      <td>30 49</td>\n",
       "      <td>Female</td>\n",
       "      <td>White Caucasian Republican</td>\n",
       "      <td>White Caucasian Female</td>\n",
       "    </tr>\n",
       "  </tbody>\n",
       "</table>\n",
       "</div>"
      ],
      "text/plain": [
       "  Registered Plan to Vote First Time        Party Q12PresidentialVote  \\\n",
       "0        Yes          Yes         No  Independent               Trump   \n",
       "1        Yes          Yes         No   Republican               Trump   \n",
       "2        Yes          Yes         No   Republican               Trump   \n",
       "3        Yes          Yes         No   Republican             Clinton   \n",
       "4        Yes          Yes         No     Democrat               Trump   \n",
       "5         No           No         No     Democrat             Clinton   \n",
       "6        Yes          Yes         No   Republican               Trump   \n",
       "7        Yes          Yes         No   Republican               Trump   \n",
       "8        Yes          Yes         No     Democrat             Clinton   \n",
       "9        Yes          Yes         No   Republican             Clinton   \n",
       "\n",
       "        Issue         Motivation        Participation Hispanic  \\\n",
       "0     Economy      Support State  President And Party      Yes   \n",
       "1   Terrorism              Issue  President And Party       No   \n",
       "2     Economy              Issue    Different Parties       No   \n",
       "3  Healthcare              Other    Different Parties       No   \n",
       "4   Terrorism  Support Candidate  President And Party       No   \n",
       "5  Healthcare              Other       Only President       No   \n",
       "6     Economy              Issue  President And Party       No   \n",
       "7   Terrorism  Support Candidate    Different Parties       No   \n",
       "8   Terrorism  Support Candidate  President And Party       No   \n",
       "9   Education              Other    Different Parties       No   \n",
       "\n",
       "               Race Marital Status             Education          Age  Gender  \\\n",
       "0          Hispanic        Married          Some College        50 64    Male   \n",
       "1   White Caucasian        Married  High School Graduate  65 Or Older    Male   \n",
       "2   White Caucasian        Married      Bachelors Degree        30 49  Female   \n",
       "3  African American        Married      Some High School        50 64  Female   \n",
       "4  African American         Single          Some College  65 Or Older    Male   \n",
       "5   White Caucasian       Divorced          Some College  65 Or Older    Male   \n",
       "6             Other        Married  High School Graduate  65 Or Older  Female   \n",
       "7   White Caucasian        Married         Post Graduate  65 Or Older    Male   \n",
       "8   White Caucasian        Married      Bachelors Degree  65 Or Older  Female   \n",
       "9   White Caucasian        Married      Bachelors Degree        30 49  Female   \n",
       "\n",
       "                     Raceparty              Genderparty  \n",
       "0         Hispanic Independent            Hispanic Male  \n",
       "1   White Caucasian Republican     White Caucasian Male  \n",
       "2   White Caucasian Republican   White Caucasian Female  \n",
       "3  African American Republican  African American Female  \n",
       "4    African American Democrat    African American Male  \n",
       "5     White Caucasian Democrat     White Caucasian Male  \n",
       "6             Other Republican             Other Female  \n",
       "7   White Caucasian Republican     White Caucasian Male  \n",
       "8     White Caucasian Democrat   White Caucasian Female  \n",
       "9   White Caucasian Republican   White Caucasian Female  "
      ]
     },
     "execution_count": 3,
     "metadata": {},
     "output_type": "execute_result"
    }
   ],
   "source": [
    "DF_FL0.head(10)"
   ]
  },
  {
   "cell_type": "code",
   "execution_count": 4,
   "metadata": {},
   "outputs": [
    {
     "data": {
      "text/html": [
       "<div>\n",
       "<style scoped>\n",
       "    .dataframe tbody tr th:only-of-type {\n",
       "        vertical-align: middle;\n",
       "    }\n",
       "\n",
       "    .dataframe tbody tr th {\n",
       "        vertical-align: top;\n",
       "    }\n",
       "\n",
       "    .dataframe thead th {\n",
       "        text-align: right;\n",
       "    }\n",
       "</style>\n",
       "<table border=\"1\" class=\"dataframe\">\n",
       "  <thead>\n",
       "    <tr style=\"text-align: right;\">\n",
       "      <th></th>\n",
       "      <th>Registered</th>\n",
       "      <th>Plan to Vote</th>\n",
       "      <th>First Time</th>\n",
       "      <th>Party</th>\n",
       "      <th>Q12PresidentialVote</th>\n",
       "      <th>Issue</th>\n",
       "      <th>Motivation</th>\n",
       "      <th>Participation</th>\n",
       "      <th>Hispanic</th>\n",
       "      <th>Race</th>\n",
       "      <th>Marital Status</th>\n",
       "      <th>Education</th>\n",
       "      <th>Age</th>\n",
       "      <th>Gender</th>\n",
       "      <th>Raceparty</th>\n",
       "      <th>Genderparty</th>\n",
       "    </tr>\n",
       "  </thead>\n",
       "  <tbody>\n",
       "    <tr>\n",
       "      <th>count</th>\n",
       "      <td>593</td>\n",
       "      <td>593</td>\n",
       "      <td>593</td>\n",
       "      <td>593</td>\n",
       "      <td>593</td>\n",
       "      <td>593</td>\n",
       "      <td>593</td>\n",
       "      <td>593</td>\n",
       "      <td>593</td>\n",
       "      <td>593</td>\n",
       "      <td>593</td>\n",
       "      <td>593</td>\n",
       "      <td>593</td>\n",
       "      <td>593</td>\n",
       "      <td>593</td>\n",
       "      <td>593</td>\n",
       "    </tr>\n",
       "    <tr>\n",
       "      <th>unique</th>\n",
       "      <td>2</td>\n",
       "      <td>2</td>\n",
       "      <td>2</td>\n",
       "      <td>3</td>\n",
       "      <td>5</td>\n",
       "      <td>9</td>\n",
       "      <td>6</td>\n",
       "      <td>4</td>\n",
       "      <td>2</td>\n",
       "      <td>5</td>\n",
       "      <td>3</td>\n",
       "      <td>5</td>\n",
       "      <td>4</td>\n",
       "      <td>2</td>\n",
       "      <td>15</td>\n",
       "      <td>10</td>\n",
       "    </tr>\n",
       "    <tr>\n",
       "      <th>top</th>\n",
       "      <td>Yes</td>\n",
       "      <td>Yes</td>\n",
       "      <td>No</td>\n",
       "      <td>Democrat</td>\n",
       "      <td>Clinton</td>\n",
       "      <td>Economy</td>\n",
       "      <td>Support Candidate</td>\n",
       "      <td>Different Parties</td>\n",
       "      <td>No</td>\n",
       "      <td>White Caucasian</td>\n",
       "      <td>Married</td>\n",
       "      <td>Some College</td>\n",
       "      <td>65 Or Older</td>\n",
       "      <td>Female</td>\n",
       "      <td>White Caucasian Republican</td>\n",
       "      <td>White Caucasian Female</td>\n",
       "    </tr>\n",
       "    <tr>\n",
       "      <th>freq</th>\n",
       "      <td>592</td>\n",
       "      <td>582</td>\n",
       "      <td>554</td>\n",
       "      <td>265</td>\n",
       "      <td>273</td>\n",
       "      <td>187</td>\n",
       "      <td>267</td>\n",
       "      <td>268</td>\n",
       "      <td>499</td>\n",
       "      <td>393</td>\n",
       "      <td>411</td>\n",
       "      <td>157</td>\n",
       "      <td>291</td>\n",
       "      <td>352</td>\n",
       "      <td>160</td>\n",
       "      <td>244</td>\n",
       "    </tr>\n",
       "  </tbody>\n",
       "</table>\n",
       "</div>"
      ],
      "text/plain": [
       "       Registered Plan to Vote First Time     Party Q12PresidentialVote  \\\n",
       "count         593          593        593       593                 593   \n",
       "unique          2            2          2         3                   5   \n",
       "top           Yes          Yes         No  Democrat             Clinton   \n",
       "freq          592          582        554       265                 273   \n",
       "\n",
       "          Issue         Motivation      Participation Hispanic  \\\n",
       "count       593                593                593      593   \n",
       "unique        9                  6                  4        2   \n",
       "top     Economy  Support Candidate  Different Parties       No   \n",
       "freq        187                267                268      499   \n",
       "\n",
       "                   Race Marital Status     Education          Age  Gender  \\\n",
       "count               593            593           593          593     593   \n",
       "unique                5              3             5            4       2   \n",
       "top     White Caucasian        Married  Some College  65 Or Older  Female   \n",
       "freq                393            411           157          291     352   \n",
       "\n",
       "                         Raceparty             Genderparty  \n",
       "count                          593                     593  \n",
       "unique                          15                      10  \n",
       "top     White Caucasian Republican  White Caucasian Female  \n",
       "freq                           160                     244  "
      ]
     },
     "execution_count": 4,
     "metadata": {},
     "output_type": "execute_result"
    }
   ],
   "source": [
    "DF_FL0.describe()"
   ]
  },
  {
   "cell_type": "code",
   "execution_count": null,
   "metadata": {},
   "outputs": [
    {
     "data": {
      "image/png": "[encoded data removed]",
      "text/plain": [
       "<Figure size 432x288 with 1 Axes>"
      ]
     },
     "metadata": {
      "needs_background": "light"
     },
     "output_type": "display_data"
    }
   ],
   "source": [
    "candidates = ('Clinton', 'Trump', 'Johnson', 'Stein', 'Undecided')\n",
    "y_pos = np.arange(len(candidates))\n",
    "counts = DF_FL0['Q12PresidentialVote'].value_counts().tolist()\n",
    "\n",
    "plt.bar(y_pos, counts, align='center', alpha=0.5)\n",
    "plt.xticks(y_pos, candidates)\n",
    "plt.ylabel('Counts')\n",
    "plt.title('Votes per Candidate')\n",
    "\n",
    "plt.show()"
   ]
  },
  {
   "cell_type": "code",
   "execution_count": null,
   "metadata": {},
   "outputs": [],
   "source": [
    "def get_counts_percent(column):\n",
    "    c = DF_FL0[column].value_counts()\n",
    "    p = DF_FL0[column].value_counts(normalize=True)\n",
    "    t = pandas.concat([c,p], axis=1, keys=['counts', '%'])\n",
    "    print('\\n{}:\\n{}'.format(column,t))"
   ]
  },
  {
   "cell_type": "code",
   "execution_count": null,
   "metadata": {},
   "outputs": [
    {
     "name": "stdout",
     "output_type": "stream",
     "text": [
      "\n",
      "Party:\n",
      "             counts         %\n",
      "Democrat        265  0.446880\n",
      "Republican      213  0.359191\n",
      "Independent     115  0.193929\n",
      "\n",
      "Issue:\n",
      "             counts         %\n",
      "Economy         187  0.315346\n",
      "Terrorism       139  0.234401\n",
      "Healthcare       66  0.111298\n",
      "Other            60  0.101180\n",
      "Budget           46  0.077572\n",
      "Social           39  0.065767\n",
      "Immigration      27  0.045531\n",
      "Education        19  0.032040\n",
      "Law              10  0.016863\n",
      "\n",
      "Hispanic:\n",
      "     counts         %\n",
      "No      499  0.841484\n",
      "Yes      94  0.158516\n",
      "\n",
      "Race:\n",
      "                  counts         %\n",
      "White Caucasian      393  0.662732\n",
      "Hispanic              94  0.158516\n",
      "African American      70  0.118044\n",
      "Other                 30  0.050590\n",
      "Asian                  6  0.010118\n",
      "\n",
      "Marital Status:\n",
      "          counts         %\n",
      "Married      411  0.693086\n",
      "Single       125  0.210793\n",
      "Divorced      57  0.096121\n",
      "\n",
      "Education:\n",
      "                      counts         %\n",
      "Some College             157  0.264755\n",
      "Bachelors Degree         150  0.252951\n",
      "Post Graduate            138  0.232715\n",
      "High School Graduate     110  0.185497\n",
      "Some High School          38  0.064081\n",
      "\n",
      "Age:\n",
      "             counts         %\n",
      "65 Or Older     291  0.490725\n",
      "50 64           220  0.370995\n",
      "30 49            66  0.111298\n",
      "18 29            16  0.026981\n",
      "\n",
      "Gender:\n",
      "        counts         %\n",
      "Female     352  0.593592\n",
      "Male       241  0.406408\n",
      "\n",
      "Raceparty:\n",
      "                              counts         %\n",
      "White Caucasian Republican       160  0.269815\n",
      "White Caucasian Democrat         159  0.268128\n",
      "White Caucasian Independent       74  0.124789\n",
      "African American Democrat         54  0.091062\n",
      "Hispanic Democrat                 39  0.065767\n",
      "Hispanic Republican               37  0.062395\n",
      "Hispanic Independent              18  0.030354\n",
      "Other Independent                 11  0.018550\n",
      "Other Democrat                    10  0.016863\n",
      "African American Independent      10  0.016863\n",
      "Other Republican                   9  0.015177\n",
      "African American Republican        6  0.010118\n",
      "Asian Democrat                     3  0.005059\n",
      "Asian Independent                  2  0.003373\n",
      "Asian Republican                   1  0.001686\n",
      "\n",
      "Genderparty:\n",
      "                         counts         %\n",
      "White Caucasian Female      244  0.411467\n",
      "White Caucasian Male        149  0.251265\n",
      "Hispanic Female              48  0.080944\n",
      "Hispanic Male                46  0.077572\n",
      "African American Female      44  0.074199\n",
      "African American Male        26  0.043845\n",
      "Other Male                   15  0.025295\n",
      "Other Female                 15  0.025295\n",
      "Asian Male                    5  0.008432\n",
      "Asian Female                  1  0.001686\n"
     ]
    }
   ],
   "source": [
    "for column in DF_Independent:\n",
    "    get_counts_percent(column)"
   ]
  },
  {
   "cell_type": "code",
   "execution_count": null,
   "metadata": {},
   "outputs": [
    {
     "data": {
      "image/png": "[encoded data removed]",
      "text/plain": [
       "<Figure size 432x288 with 1 Axes>"
      ]
     },
     "metadata": {
      "needs_background": "light"
     },
     "output_type": "display_data"
    },
    {
     "data": {
      "image/png": "[encoded data removed]",
      "text/plain": [
       "<Figure size 432x288 with 1 Axes>"
      ]
     },
     "metadata": {
      "needs_background": "light"
     },
     "output_type": "display_data"
    },
    {
     "data": {
      "image/png": "[encoded data removed]",
      "text/plain": [
       "<Figure size 432x288 with 1 Axes>"
      ]
     },
     "metadata": {
      "needs_background": "light"
     },
     "output_type": "display_data"
    }
   ],
   "source": [
    "for column in ['Marital Status','Age','Gender']:\n",
    "    categories = DF_FL0[column].unique().tolist()\n",
    "    y_pos = np.arange(len(categories))\n",
    "    counts = DF_FL0[column].value_counts().tolist()\n",
    "\n",
    "    plt.bar(y_pos, counts, align='center', alpha=0.5)\n",
    "    plt.xticks(y_pos, categories)\n",
    "    plt.ylabel('Counts')\n",
    "    plt.title('{}'.format(column))\n",
    "\n",
    "    plt.show()"
   ]
  },
  {
   "cell_type": "code",
   "execution_count": null,
   "metadata": {},
   "outputs": [
    {
     "data": {
      "image/png": "[encoded data removed]",
      "text/plain": [
       "<Figure size 432x288 with 1 Axes>"
      ]
     },
     "metadata": {
      "needs_background": "light"
     },
     "output_type": "display_data"
    }
   ],
   "source": [
    "ax = sns.countplot(y='Party', hue='Race', data=DF_FL0)"
   ]
  },
  {
   "cell_type": "code",
   "execution_count": null,
   "metadata": {},
   "outputs": [
    {
     "data": {
      "image/png": "[encoded data removed]",
      "text/plain": [
       "<Figure size 432x288 with 1 Axes>"
      ]
     },
     "metadata": {
      "needs_background": "light"
     },
     "output_type": "display_data"
    }
   ],
   "source": [
    "ax = sns.countplot(y='Q12PresidentialVote', hue='Race', data=DF_FL0)"
   ]
  },
  {
   "cell_type": "code",
   "execution_count": null,
   "metadata": {},
   "outputs": [
    {
     "data": {
      "image/png": "[encoded data removed]",
      "text/plain": [
       "<Figure size 432x288 with 1 Axes>"
      ]
     },
     "metadata": {
      "needs_background": "light"
     },
     "output_type": "display_data"
    }
   ],
   "source": [
    "ax = sns.countplot(y='Race', hue='Issue', data=DF_FL0)\n",
    "plt.legend(loc='lower right');"
   ]
  },
  {
   "cell_type": "code",
   "execution_count": null,
   "metadata": {},
   "outputs": [],
   "source": [
    "DF_Independent_dummies = pandas.get_dummies(DF_Independent)\n",
    "\n",
    "le = preprocessing.LabelEncoder()\n",
    "\n",
    "le.fit(DF_Dependent['Q12PresidentialVote'])\n",
    "\n",
    "target = le.transform(DF_Dependent['Q12PresidentialVote'])"
   ]
  },
  {
   "cell_type": "code",
   "execution_count": null,
   "metadata": {},
   "outputs": [],
   "source": [
    "[x_train, x_test, y_train, y_test] = train_test_split(DF_Independent_dummies, target, test_size=0.2)"
   ]
  },
  {
   "cell_type": "code",
   "execution_count": null,
   "metadata": {
    "scrolled": true
   },
   "outputs": [
    {
     "name": "stdout",
     "output_type": "stream",
     "text": [
      "0.9190556492411467\n"
     ]
    }
   ],
   "source": [
    "knn = KNeighborsClassifier(n_neighbors = 1).fit(DF_Independent_dummies, target) \n",
    "  \n",
    "# accuracy on X_test \n",
    "accuracyknn = knn.score(DF_Independent_dummies, target) \n",
    "print(accuracyknn) "
   ]
  },
  {
   "cell_type": "code",
   "execution_count": null,
   "metadata": {},
   "outputs": [
    {
     "name": "stdout",
     "output_type": "stream",
     "text": [
      "KNeighborsClassifier: 0.6050420168067226\n"
     ]
    }
   ],
   "source": [
    "knn = KNeighborsClassifier(n_neighbors = 1).fit(x_train, y_train)\n",
    "predicted = knn.predict(x_test)\n",
    "print(\"{}: {}\".format(knn.__class__.__name__, f1_score(y_test, predicted, average='micro')))"
   ]
  },
  {
   "cell_type": "code",
   "execution_count": null,
   "metadata": {},
   "outputs": [],
   "source": [
    "tsne = TSNEVisualizer(size=(1080, 720))\n",
    "tsne.fit(DF_Independent_dummies, target)\n",
    "\n",
    "print(tsne.poof())"
   ]
  }
 ],
 "metadata": {
  "kernelspec": {
   "display_name": "Python 3",
   "language": "python",
   "name": "python3"
  },
  "language_info": {
   "codemirror_mode": {
    "name": "ipython",
    "version": 3
   },
   "file_extension": ".py",
   "mimetype": "text/x-python",
   "name": "python",
   "nbconvert_exporter": "python",
   "pygments_lexer": "ipython3",
   "version": "3.7.1"
  }
 },
 "nbformat": 4,
 "nbformat_minor": 2
}
