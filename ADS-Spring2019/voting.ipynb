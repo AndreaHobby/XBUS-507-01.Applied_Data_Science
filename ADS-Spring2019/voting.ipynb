{
 "cells": [
  {
   "cell_type": "code",
   "execution_count": null,
   "metadata": {},
   "outputs": [],
   "source": [
    "import pandas\n",
    "from sklearn.metrics import f1_score\n",
    "from sklearn.metrics import accuracy_score\n",
    "import matplotlib.pyplot as plt; plt.rcdefaults()\n",
    "import numpy as np\n",
    "from sklearn import preprocessing\n",
    "import matplotlib.pyplot as plt\n",
    "import seaborn as sns\n",
    "from sklearn.model_selection import train_test_split\n",
    "from sklearn.neighbors import KNeighborsClassifier\n",
    "from sklearn.preprocessing import LabelEncoder\n",
    "from yellowbrick.text import TSNEVisualizer"
   ]
  },
  {
   "cell_type": "markdown",
   "metadata": {},
   "source": [
    "## Load in Data"
   ]
  },
  {
   "cell_type": "code",
   "execution_count": null,
   "metadata": {},
   "outputs": [],
   "source": [
    "DF_FL0 = pandas.read_excel('/Users/alice.naghshineh/Desktop/michael_data/Florida.xlsx')\n",
    "\n",
    "DF_Dependent = DF_FL0[['Q12PresidentialVote']].copy()\n",
    "\n",
    "DF_Independent = DF_FL0[[\n",
    " 'Party',\n",
    " 'Issue',\n",
    " 'Hispanic',\n",
    " 'Race',\n",
    " 'Marital Status',\n",
    " 'Education',\n",
    " 'Age',\n",
    " 'Gender',\n",
    " 'Raceparty',\n",
    " 'Genderparty']]\n",
    "\n",
    "DF_FL0 = DF_FL0.drop(['Q8Clinton', 'Q9Trump'], axis=1)"
   ]
  },
  {
   "cell_type": "code",
   "execution_count": null,
   "metadata": {},
   "outputs": [],
   "source": [
    "DF_FL0.head(10)"
   ]
  },
  {
   "cell_type": "code",
   "execution_count": null,
   "metadata": {},
   "outputs": [],
   "source": [
    "DF_FL0.describe()"
   ]
  },
  {
   "cell_type": "markdown",
   "metadata": {},
   "source": [
    "## Visualize Feature Counts (Raw & Normalized)"
   ]
  },
  {
   "cell_type": "code",
   "execution_count": null,
   "metadata": {},
   "outputs": [],
   "source": [
    "candidates = ('Clinton', 'Trump', 'Johnson', 'Stein', 'Undecided')\n",
    "y_pos = np.arange(len(candidates))\n",
    "counts = DF_FL0['Q12PresidentialVote'].value_counts().tolist()\n",
    "\n",
    "plt.bar(y_pos, counts, align='center', alpha=0.5)\n",
    "plt.xticks(y_pos, candidates)\n",
    "plt.ylabel('Counts')\n",
    "plt.title('Votes per Candidate')\n",
    "\n",
    "plt.show()"
   ]
  },
  {
   "cell_type": "code",
   "execution_count": null,
   "metadata": {},
   "outputs": [],
   "source": [
    "def get_counts_percent(column):\n",
    "    c = DF_FL0[column].value_counts()\n",
    "    p = DF_FL0[column].value_counts(normalize=True)\n",
    "    t = pandas.concat([c,p], axis=1, keys=['counts', '%'])\n",
    "    print('\\n{}:\\n{}'.format(column,t))"
   ]
  },
  {
   "cell_type": "code",
   "execution_count": null,
   "metadata": {},
   "outputs": [],
   "source": [
    "for column in DF_Independent:\n",
    "    get_counts_percent(column)"
   ]
  },
  {
   "cell_type": "code",
   "execution_count": null,
   "metadata": {},
   "outputs": [],
   "source": [
    "for column in ['Marital Status','Age','Gender']:\n",
    "    categories = DF_FL0[column].unique().tolist()\n",
    "    y_pos = np.arange(len(categories))\n",
    "    counts = DF_FL0[column].value_counts().tolist()\n",
    "\n",
    "    plt.bar(y_pos, counts, align='center', alpha=0.5)\n",
    "    plt.xticks(y_pos, categories)\n",
    "    plt.ylabel('Counts')\n",
    "    plt.title('{}'.format(column))\n",
    "\n",
    "    plt.show()"
   ]
  },
  {
   "cell_type": "code",
   "execution_count": null,
   "metadata": {},
   "outputs": [],
   "source": [
    "ax = sns.countplot(y='Party', hue='Race', data=DF_FL0)"
   ]
  },
  {
   "cell_type": "code",
   "execution_count": null,
   "metadata": {},
   "outputs": [],
   "source": [
    "ax = sns.countplot(y='Q12PresidentialVote', hue='Race', data=DF_FL0)"
   ]
  },
  {
   "cell_type": "code",
   "execution_count": null,
   "metadata": {},
   "outputs": [],
   "source": [
    "ax = sns.countplot(y='Race', hue='Issue', data=DF_FL0)\n",
    "plt.legend(loc='lower right');"
   ]
  },
  {
   "cell_type": "markdown",
   "metadata": {},
   "source": [
    "## Prepare Categorical Variables for Modeling"
   ]
  },
  {
   "cell_type": "code",
   "execution_count": null,
   "metadata": {},
   "outputs": [],
   "source": [
    "DF_Independent_dummies = pandas.get_dummies(DF_Independent)\n",
    "\n",
    "le = preprocessing.LabelEncoder()\n",
    "\n",
    "le.fit(DF_Dependent['Q12PresidentialVote'])\n",
    "\n",
    "target = le.transform(DF_Dependent['Q12PresidentialVote'])"
   ]
  },
  {
   "cell_type": "code",
   "execution_count": null,
   "metadata": {},
   "outputs": [],
   "source": [
    "[x_train, x_test, y_train, y_test] = train_test_split(DF_Independent_dummies, target, test_size=0.2)"
   ]
  },
  {
   "cell_type": "markdown",
   "metadata": {},
   "source": [
    "## Try KNeighbors"
   ]
  },
  {
   "cell_type": "code",
   "execution_count": null,
   "metadata": {
    "scrolled": true
   },
   "outputs": [],
   "source": [
    "knn = KNeighborsClassifier(n_neighbors = 1).fit(DF_Independent_dummies, target) \n",
    "  \n",
    "# accuracy on X_test \n",
    "accuracyknn = knn.score(DF_Independent_dummies, target) \n",
    "print(accuracyknn) "
   ]
  },
  {
   "cell_type": "code",
   "execution_count": null,
   "metadata": {},
   "outputs": [],
   "source": [
    "knn = KNeighborsClassifier(n_neighbors = 1).fit(x_train, y_train)\n",
    "predicted = knn.predict(x_test)\n",
    "print(\"{}: {}\".format(knn.__class__.__name__, f1_score(y_test, predicted, average='micro')))"
   ]
  },
  {
   "cell_type": "markdown",
   "metadata": {},
   "source": [
    "## ... and a Clustering Visualization"
   ]
  },
  {
   "cell_type": "code",
   "execution_count": null,
   "metadata": {
    "scrolled": true
   },
   "outputs": [],
   "source": [
    "tsne = TSNEVisualizer(size=(1080, 720))\n",
    "tsne.fit(DF_Independent_dummies, target)\n",
    "\n",
    "print(tsne.poof())"
   ]
  }
 ],
 "metadata": {
  "kernelspec": {
   "display_name": "Python 3",
   "language": "python",
   "name": "python3"
  },
  "language_info": {
   "codemirror_mode": {
    "name": "ipython",
    "version": 3
   },
   "file_extension": ".py",
   "mimetype": "text/x-python",
   "name": "python",
   "nbconvert_exporter": "python",
   "pygments_lexer": "ipython3",
   "version": "3.7.1"
  }
 },
 "nbformat": 4,
 "nbformat_minor": 2
}
