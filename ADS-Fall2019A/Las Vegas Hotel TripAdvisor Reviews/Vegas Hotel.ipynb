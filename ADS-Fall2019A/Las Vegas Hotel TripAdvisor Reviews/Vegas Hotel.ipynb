{
 "cells": [
  {
   "cell_type": "code",
   "execution_count": 19,
   "metadata": {},
   "outputs": [
    {
     "data": {
      "text/html": [
       "<div>\n",
       "<style scoped>\n",
       "    .dataframe tbody tr th:only-of-type {\n",
       "        vertical-align: middle;\n",
       "    }\n",
       "\n",
       "    .dataframe tbody tr th {\n",
       "        vertical-align: top;\n",
       "    }\n",
       "\n",
       "    .dataframe thead th {\n",
       "        text-align: right;\n",
       "    }\n",
       "</style>\n",
       "<table border=\"1\" class=\"dataframe\">\n",
       "  <thead>\n",
       "    <tr style=\"text-align: right;\">\n",
       "      <th></th>\n",
       "      <th>User country</th>\n",
       "      <th>Nr. reviews</th>\n",
       "      <th>Nr. hotel reviews</th>\n",
       "      <th>Helpful votes</th>\n",
       "      <th>Score</th>\n",
       "      <th>Period of stay</th>\n",
       "      <th>Traveler type</th>\n",
       "      <th>Pool</th>\n",
       "      <th>Gym</th>\n",
       "      <th>Tennis court</th>\n",
       "      <th>Spa</th>\n",
       "      <th>Casino</th>\n",
       "      <th>Free internet</th>\n",
       "      <th>Hotel name</th>\n",
       "      <th>Hotel stars</th>\n",
       "      <th>Nr. rooms</th>\n",
       "      <th>User continent</th>\n",
       "      <th>Member years</th>\n",
       "      <th>Review month</th>\n",
       "      <th>Review weekday</th>\n",
       "    </tr>\n",
       "  </thead>\n",
       "  <tbody>\n",
       "    <tr>\n",
       "      <th>0</th>\n",
       "      <td>USA</td>\n",
       "      <td>11</td>\n",
       "      <td>4</td>\n",
       "      <td>13</td>\n",
       "      <td>5</td>\n",
       "      <td>Dec-Feb</td>\n",
       "      <td>Friends</td>\n",
       "      <td>NO</td>\n",
       "      <td>YES</td>\n",
       "      <td>NO</td>\n",
       "      <td>NO</td>\n",
       "      <td>YES</td>\n",
       "      <td>YES</td>\n",
       "      <td>Circus Circus Hotel &amp; Casino Las Vegas</td>\n",
       "      <td>3</td>\n",
       "      <td>3773</td>\n",
       "      <td>North America</td>\n",
       "      <td>9</td>\n",
       "      <td>January</td>\n",
       "      <td>Thursday</td>\n",
       "    </tr>\n",
       "    <tr>\n",
       "      <th>1</th>\n",
       "      <td>USA</td>\n",
       "      <td>119</td>\n",
       "      <td>21</td>\n",
       "      <td>75</td>\n",
       "      <td>3</td>\n",
       "      <td>Dec-Feb</td>\n",
       "      <td>Business</td>\n",
       "      <td>NO</td>\n",
       "      <td>YES</td>\n",
       "      <td>NO</td>\n",
       "      <td>NO</td>\n",
       "      <td>YES</td>\n",
       "      <td>YES</td>\n",
       "      <td>Circus Circus Hotel &amp; Casino Las Vegas</td>\n",
       "      <td>3</td>\n",
       "      <td>3773</td>\n",
       "      <td>North America</td>\n",
       "      <td>3</td>\n",
       "      <td>January</td>\n",
       "      <td>Friday</td>\n",
       "    </tr>\n",
       "    <tr>\n",
       "      <th>2</th>\n",
       "      <td>USA</td>\n",
       "      <td>36</td>\n",
       "      <td>9</td>\n",
       "      <td>25</td>\n",
       "      <td>5</td>\n",
       "      <td>Mar-May</td>\n",
       "      <td>Families</td>\n",
       "      <td>NO</td>\n",
       "      <td>YES</td>\n",
       "      <td>NO</td>\n",
       "      <td>NO</td>\n",
       "      <td>YES</td>\n",
       "      <td>YES</td>\n",
       "      <td>Circus Circus Hotel &amp; Casino Las Vegas</td>\n",
       "      <td>3</td>\n",
       "      <td>3773</td>\n",
       "      <td>North America</td>\n",
       "      <td>2</td>\n",
       "      <td>February</td>\n",
       "      <td>Saturday</td>\n",
       "    </tr>\n",
       "    <tr>\n",
       "      <th>3</th>\n",
       "      <td>UK</td>\n",
       "      <td>14</td>\n",
       "      <td>7</td>\n",
       "      <td>14</td>\n",
       "      <td>4</td>\n",
       "      <td>Mar-May</td>\n",
       "      <td>Friends</td>\n",
       "      <td>NO</td>\n",
       "      <td>YES</td>\n",
       "      <td>NO</td>\n",
       "      <td>NO</td>\n",
       "      <td>YES</td>\n",
       "      <td>YES</td>\n",
       "      <td>Circus Circus Hotel &amp; Casino Las Vegas</td>\n",
       "      <td>3</td>\n",
       "      <td>3773</td>\n",
       "      <td>Europe</td>\n",
       "      <td>6</td>\n",
       "      <td>February</td>\n",
       "      <td>Friday</td>\n",
       "    </tr>\n",
       "    <tr>\n",
       "      <th>4</th>\n",
       "      <td>Canada</td>\n",
       "      <td>5</td>\n",
       "      <td>5</td>\n",
       "      <td>2</td>\n",
       "      <td>4</td>\n",
       "      <td>Mar-May</td>\n",
       "      <td>Solo</td>\n",
       "      <td>NO</td>\n",
       "      <td>YES</td>\n",
       "      <td>NO</td>\n",
       "      <td>NO</td>\n",
       "      <td>YES</td>\n",
       "      <td>YES</td>\n",
       "      <td>Circus Circus Hotel &amp; Casino Las Vegas</td>\n",
       "      <td>3</td>\n",
       "      <td>3773</td>\n",
       "      <td>North America</td>\n",
       "      <td>7</td>\n",
       "      <td>March</td>\n",
       "      <td>Tuesday</td>\n",
       "    </tr>\n",
       "  </tbody>\n",
       "</table>\n",
       "</div>"
      ],
      "text/plain": [
       "  User country  Nr. reviews  Nr. hotel reviews  Helpful votes  Score  \\\n",
       "0          USA           11                  4             13      5   \n",
       "1          USA          119                 21             75      3   \n",
       "2          USA           36                  9             25      5   \n",
       "3           UK           14                  7             14      4   \n",
       "4       Canada            5                  5              2      4   \n",
       "\n",
       "  Period of stay Traveler type Pool  Gym Tennis court Spa Casino  \\\n",
       "0        Dec-Feb       Friends   NO  YES           NO  NO    YES   \n",
       "1        Dec-Feb      Business   NO  YES           NO  NO    YES   \n",
       "2        Mar-May      Families   NO  YES           NO  NO    YES   \n",
       "3        Mar-May       Friends   NO  YES           NO  NO    YES   \n",
       "4        Mar-May          Solo   NO  YES           NO  NO    YES   \n",
       "\n",
       "  Free internet                              Hotel name Hotel stars  \\\n",
       "0           YES  Circus Circus Hotel & Casino Las Vegas           3   \n",
       "1           YES  Circus Circus Hotel & Casino Las Vegas           3   \n",
       "2           YES  Circus Circus Hotel & Casino Las Vegas           3   \n",
       "3           YES  Circus Circus Hotel & Casino Las Vegas           3   \n",
       "4           YES  Circus Circus Hotel & Casino Las Vegas           3   \n",
       "\n",
       "   Nr. rooms User continent  Member years Review month Review weekday  \n",
       "0       3773  North America             9      January       Thursday  \n",
       "1       3773  North America             3      January         Friday  \n",
       "2       3773  North America             2     February       Saturday  \n",
       "3       3773         Europe             6     February         Friday  \n",
       "4       3773  North America             7        March        Tuesday  "
      ]
     },
     "execution_count": 19,
     "metadata": {},
     "output_type": "execute_result"
    }
   ],
   "source": [
    "import pandas as pd\n",
    "\n",
    "\n",
    "df = pd.read_csv(r'C:\\Users\\sadiv\\Documents\\DataAnalytics\\LasVegasTripAdvisorReviews.csv', sep=\";\")\n",
    "df.head()"
   ]
  },
  {
   "cell_type": "code",
   "execution_count": 20,
   "metadata": {},
   "outputs": [
    {
     "data": {
      "text/plain": [
       "10080"
      ]
     },
     "execution_count": 20,
     "metadata": {},
     "output_type": "execute_result"
    }
   ],
   "source": [
    "df.size"
   ]
  },
  {
   "cell_type": "code",
   "execution_count": 72,
   "metadata": {},
   "outputs": [
    {
     "data": {
      "text/plain": [
       "User country         object\n",
       "Nr. reviews           int64\n",
       "Nr. hotel reviews     int64\n",
       "Helpful votes         int64\n",
       "Score                 int64\n",
       "Period of stay       object\n",
       "Traveler type        object\n",
       "Pool                 object\n",
       "Gym                  object\n",
       "Tennis court         object\n",
       "Spa                  object\n",
       "Casino               object\n",
       "Free internet        object\n",
       "Hotel name           object\n",
       "Hotel stars          object\n",
       "Nr. rooms             int64\n",
       "User continent       object\n",
       "Member years          int64\n",
       "Review month         object\n",
       "Review weekday       object\n",
       "dtype: object"
      ]
     },
     "execution_count": 72,
     "metadata": {},
     "output_type": "execute_result"
    }
   ],
   "source": [
    "df.dtypes"
   ]
  },
  {
   "cell_type": "code",
   "execution_count": 27,
   "metadata": {},
   "outputs": [
    {
     "data": {
      "text/plain": [
       "<bound method DataFrame.info of     User country  Nr. reviews  Nr. hotel reviews  Helpful votes  Score  \\\n",
       "0            USA           11                  4             13      5   \n",
       "1            USA          119                 21             75      3   \n",
       "2            USA           36                  9             25      5   \n",
       "3             UK           14                  7             14      4   \n",
       "4         Canada            5                  5              2      4   \n",
       "5         Canada           31                  8             27      3   \n",
       "6             UK           45                 12             46      4   \n",
       "7            USA            2                  1              4      4   \n",
       "8          India           24                  3              8      4   \n",
       "9         Canada           12                  7             11      3   \n",
       "10           USA          102                 24             58      2   \n",
       "11     Australia           20                  9             24      3   \n",
       "12           USA            7                  6              9      2   \n",
       "13           USA           22                  5             13      3   \n",
       "14            UK            3                  3              0      3   \n",
       "15    New Zeland          146                 17             33      4   \n",
       "16        Canada            8                  8              9      1   \n",
       "17           USA            9                  3              1      4   \n",
       "18        Canada           41                  9             19      3   \n",
       "19           USA            8                  7             26      2   \n",
       "20            UK           10                  5              2      4   \n",
       "21    New Zeland            4                  3              3      1   \n",
       "22            UK           18                  7             19      4   \n",
       "23           USA            4                  4              3      2   \n",
       "24       Ireland           29                 11             15      4   \n",
       "25           USA          114                 42             52      4   \n",
       "26        Canada           30                 12             17      5   \n",
       "27            UK           87                 18             36      3   \n",
       "28           USA           26                 10             28      5   \n",
       "29       Ireland            8                  7              9      5   \n",
       "..           ...          ...                ...            ...    ...   \n",
       "474       Canada           18                  3             10      2   \n",
       "475          USA            6                  4              6      5   \n",
       "476          USA           48                  8             25      4   \n",
       "477          USA           24                  3              5      5   \n",
       "478       Canada          123                 26             63      5   \n",
       "479          USA           24                  7              6      4   \n",
       "480       Canada           20                 13             17      4   \n",
       "481          USA           15                  3              4      3   \n",
       "482        Italy          189                 72            129      4   \n",
       "483          USA           25                 19             27      3   \n",
       "484          USA           33                 11             12      5   \n",
       "485          USA           14                  7             13      5   \n",
       "486          USA           38                 22             47      4   \n",
       "487        Egypt          169                 43             85      4   \n",
       "488          USA           20                 17             21      3   \n",
       "489          USA           17                 10             18      4   \n",
       "490          USA           96                 47            161      4   \n",
       "491          USA           38                 13             11      3   \n",
       "492        India           12                 11              9      4   \n",
       "493          USA            9                  8              1      5   \n",
       "494          USA           23                 21             22      3   \n",
       "495          USA           21                  6              3      4   \n",
       "496          USA           30                 27             19      5   \n",
       "497          USA           63                 16             59      3   \n",
       "498           UK           35                  3             25      5   \n",
       "499           UK           15                  4              8      5   \n",
       "500       Canada           50                 13             29      4   \n",
       "501          USA          154                 23             31      4   \n",
       "502          USA            9                  6              5      2   \n",
       "503          USA           20                 19            112      4   \n",
       "\n",
       "    Period of stay Traveler type Pool  Gym Tennis court  Spa Casino  \\\n",
       "0          Dec-Feb       Friends   NO  YES           NO   NO    YES   \n",
       "1          Dec-Feb      Business   NO  YES           NO   NO    YES   \n",
       "2          Mar-May      Families   NO  YES           NO   NO    YES   \n",
       "3          Mar-May       Friends   NO  YES           NO   NO    YES   \n",
       "4          Mar-May          Solo   NO  YES           NO   NO    YES   \n",
       "5          Mar-May       Couples   NO  YES           NO   NO    YES   \n",
       "6          Mar-May       Couples   NO  YES           NO   NO    YES   \n",
       "7          Mar-May      Families   NO  YES           NO   NO    YES   \n",
       "8          Mar-May       Friends   NO  YES           NO   NO    YES   \n",
       "9          Mar-May      Families   NO  YES           NO   NO    YES   \n",
       "10         Jun-Aug      Families   NO  YES           NO   NO    YES   \n",
       "11         Jun-Aug       Friends   NO  YES           NO   NO    YES   \n",
       "12         Jun-Aug       Friends   NO  YES           NO   NO    YES   \n",
       "13         Jun-Aug       Friends   NO  YES           NO   NO    YES   \n",
       "14         Jun-Aug       Friends   NO  YES           NO   NO    YES   \n",
       "15         Jun-Aug      Families   NO  YES           NO   NO    YES   \n",
       "16         Sep-Nov      Families   NO  YES           NO   NO    YES   \n",
       "17         Sep-Nov      Families   NO  YES           NO   NO    YES   \n",
       "18         Sep-Nov       Couples   NO  YES           NO   NO    YES   \n",
       "19         Sep-Nov       Couples   NO  YES           NO   NO    YES   \n",
       "20         Sep-Nov       Couples   NO  YES           NO   NO    YES   \n",
       "21         Sep-Nov       Couples   NO  YES           NO   NO    YES   \n",
       "22         Dec-Feb      Families   NO  YES           NO   NO    YES   \n",
       "23         Dec-Feb       Couples   NO  YES           NO   NO    YES   \n",
       "24         Dec-Feb       Couples  YES  YES           NO  YES    YES   \n",
       "25         Dec-Feb      Business  YES  YES           NO  YES    YES   \n",
       "26         Dec-Feb       Couples  YES  YES           NO  YES    YES   \n",
       "27         Dec-Feb      Business  YES  YES           NO  YES    YES   \n",
       "28         Mar-May          Solo  YES  YES           NO  YES    YES   \n",
       "29         Mar-May       Couples  YES  YES           NO  YES    YES   \n",
       "..             ...           ...  ...  ...          ...  ...    ...   \n",
       "474        Sep-Nov       Couples  YES  YES           NO  YES    YES   \n",
       "475        Sep-Nov       Couples  YES  YES           NO  YES    YES   \n",
       "476        Sep-Nov       Couples  YES  YES           NO  YES    YES   \n",
       "477        Sep-Nov       Couples  YES  YES           NO  YES    YES   \n",
       "478        Dec-Feb       Couples  YES  YES           NO  YES    YES   \n",
       "479        Dec-Feb       Friends  YES  YES           NO  YES    YES   \n",
       "480        Dec-Feb       Couples  YES  YES           NO  YES    YES   \n",
       "481        Dec-Feb      Families  YES  YES           NO  YES    YES   \n",
       "482        Dec-Feb          Solo  YES  YES           NO  YES    YES   \n",
       "483        Dec-Feb       Couples  YES  YES           NO  YES    YES   \n",
       "484        Mar-May      Business  YES  YES           NO  YES    YES   \n",
       "485        Mar-May       Friends  YES  YES           NO  YES    YES   \n",
       "486        Mar-May      Business  YES  YES           NO  YES    YES   \n",
       "487        Mar-May          Solo  YES  YES           NO  YES    YES   \n",
       "488        Mar-May       Friends  YES  YES           NO  YES    YES   \n",
       "489        Mar-May       Couples  YES  YES           NO  YES    YES   \n",
       "490        Jun-Aug          Solo  YES  YES           NO  YES    YES   \n",
       "491        Jun-Aug      Business  YES  YES           NO  YES    YES   \n",
       "492        Jun-Aug      Families  YES  YES           NO  YES    YES   \n",
       "493        Jun-Aug       Couples  YES  YES           NO  YES    YES   \n",
       "494        Jun-Aug      Families  YES  YES           NO  YES    YES   \n",
       "495        Jun-Aug       Couples  YES  YES           NO  YES    YES   \n",
       "496        Sep-Nov          Solo  YES  YES           NO  YES    YES   \n",
       "497        Sep-Nov       Couples  YES  YES           NO  YES    YES   \n",
       "498        Sep-Nov       Couples  YES  YES           NO  YES    YES   \n",
       "499        Sep-Nov       Couples  YES  YES           NO  YES    YES   \n",
       "500        Sep-Nov       Couples  YES  YES           NO  YES    YES   \n",
       "501        Sep-Nov       Friends  YES  YES           NO  YES    YES   \n",
       "502        Dec-Feb      Families  YES  YES           NO  YES    YES   \n",
       "503        Dec-Feb      Families  YES  YES           NO  YES    YES   \n",
       "\n",
       "    Free internet                               Hotel name Hotel stars  \\\n",
       "0             YES   Circus Circus Hotel & Casino Las Vegas           3   \n",
       "1             YES   Circus Circus Hotel & Casino Las Vegas           3   \n",
       "2             YES   Circus Circus Hotel & Casino Las Vegas           3   \n",
       "3             YES   Circus Circus Hotel & Casino Las Vegas           3   \n",
       "4             YES   Circus Circus Hotel & Casino Las Vegas           3   \n",
       "5             YES   Circus Circus Hotel & Casino Las Vegas           3   \n",
       "6             YES   Circus Circus Hotel & Casino Las Vegas           3   \n",
       "7             YES   Circus Circus Hotel & Casino Las Vegas           3   \n",
       "8             YES   Circus Circus Hotel & Casino Las Vegas           3   \n",
       "9             YES   Circus Circus Hotel & Casino Las Vegas           3   \n",
       "10            YES   Circus Circus Hotel & Casino Las Vegas           3   \n",
       "11            YES   Circus Circus Hotel & Casino Las Vegas           3   \n",
       "12            YES   Circus Circus Hotel & Casino Las Vegas           3   \n",
       "13            YES   Circus Circus Hotel & Casino Las Vegas           3   \n",
       "14            YES   Circus Circus Hotel & Casino Las Vegas           3   \n",
       "15            YES   Circus Circus Hotel & Casino Las Vegas           3   \n",
       "16            YES   Circus Circus Hotel & Casino Las Vegas           3   \n",
       "17            YES   Circus Circus Hotel & Casino Las Vegas           3   \n",
       "18            YES   Circus Circus Hotel & Casino Las Vegas           3   \n",
       "19            YES   Circus Circus Hotel & Casino Las Vegas           3   \n",
       "20            YES   Circus Circus Hotel & Casino Las Vegas           3   \n",
       "21            YES   Circus Circus Hotel & Casino Las Vegas           3   \n",
       "22            YES   Circus Circus Hotel & Casino Las Vegas           3   \n",
       "23            YES   Circus Circus Hotel & Casino Las Vegas           3   \n",
       "24            YES                 Excalibur Hotel & Casino           3   \n",
       "25            YES                 Excalibur Hotel & Casino           3   \n",
       "26            YES                 Excalibur Hotel & Casino           3   \n",
       "27            YES                 Excalibur Hotel & Casino           3   \n",
       "28            YES                 Excalibur Hotel & Casino           3   \n",
       "29            YES                 Excalibur Hotel & Casino           3   \n",
       "..            ...                                      ...         ...   \n",
       "474           YES                          Paris Las Vegas           4   \n",
       "475           YES                          Paris Las Vegas           4   \n",
       "476           YES                          Paris Las Vegas           4   \n",
       "477           YES                          Paris Las Vegas           4   \n",
       "478           YES                          Paris Las Vegas           4   \n",
       "479           YES                          Paris Las Vegas           4   \n",
       "480           YES  The Westin las Vegas Hotel Casino & Spa           4   \n",
       "481           YES  The Westin las Vegas Hotel Casino & Spa           4   \n",
       "482           YES  The Westin las Vegas Hotel Casino & Spa           4   \n",
       "483           YES  The Westin las Vegas Hotel Casino & Spa           4   \n",
       "484           YES  The Westin las Vegas Hotel Casino & Spa           4   \n",
       "485           YES  The Westin las Vegas Hotel Casino & Spa           4   \n",
       "486           YES  The Westin las Vegas Hotel Casino & Spa           4   \n",
       "487           YES  The Westin las Vegas Hotel Casino & Spa           4   \n",
       "488           YES  The Westin las Vegas Hotel Casino & Spa           4   \n",
       "489           YES  The Westin las Vegas Hotel Casino & Spa           4   \n",
       "490           YES  The Westin las Vegas Hotel Casino & Spa           4   \n",
       "491           YES  The Westin las Vegas Hotel Casino & Spa           4   \n",
       "492           YES  The Westin las Vegas Hotel Casino & Spa           4   \n",
       "493           YES  The Westin las Vegas Hotel Casino & Spa           4   \n",
       "494           YES  The Westin las Vegas Hotel Casino & Spa           4   \n",
       "495           YES  The Westin las Vegas Hotel Casino & Spa           4   \n",
       "496           YES  The Westin las Vegas Hotel Casino & Spa           4   \n",
       "497           YES  The Westin las Vegas Hotel Casino & Spa           4   \n",
       "498           YES  The Westin las Vegas Hotel Casino & Spa           4   \n",
       "499           YES  The Westin las Vegas Hotel Casino & Spa           4   \n",
       "500           YES  The Westin las Vegas Hotel Casino & Spa           4   \n",
       "501           YES  The Westin las Vegas Hotel Casino & Spa           4   \n",
       "502           YES  The Westin las Vegas Hotel Casino & Spa           4   \n",
       "503           YES  The Westin las Vegas Hotel Casino & Spa           4   \n",
       "\n",
       "     Nr. rooms User continent  Member years Review month Review weekday  \n",
       "0         3773  North America             9      January       Thursday  \n",
       "1         3773  North America             3      January         Friday  \n",
       "2         3773  North America             2     February       Saturday  \n",
       "3         3773         Europe             6     February         Friday  \n",
       "4         3773  North America             7        March        Tuesday  \n",
       "5         3773  North America             2        March        Tuesday  \n",
       "6         3773         Europe             4        April         Friday  \n",
       "7         3773  North America             0        April        Tuesday  \n",
       "8         3773           Asia             3          May       Saturday  \n",
       "9         3773  North America             5          May        Tuesday  \n",
       "10        3773  North America             9         June         Friday  \n",
       "11        3773        Oceania             4         June       Saturday  \n",
       "12        3773  North America             1         July      Wednesday  \n",
       "13        3773  North America             1         July       Thursday  \n",
       "14        3773         Europe             1       August         Sunday  \n",
       "15        3773        Oceania             2       August       Saturday  \n",
       "16        3773  North America             4    September      Wednesday  \n",
       "17        3773  North America             2    September       Saturday  \n",
       "18        3773  North America             2      October        Tuesday  \n",
       "19        3773  North America            10      October         Monday  \n",
       "20        3773         Europe             7     November       Saturday  \n",
       "21        3773        Oceania             3     November         Monday  \n",
       "22        3773         Europe             0     December       Saturday  \n",
       "23        3773  North America             5     December         Sunday  \n",
       "24        3981         Europe             3      January         Monday  \n",
       "25        3981  North America            11      January       Saturday  \n",
       "26        3981  North America             8     February         Friday  \n",
       "27        3981         Europe             3     February       Thursday  \n",
       "28        3981  North America             1        March      Wednesday  \n",
       "29        3981         Europe             8        March      Wednesday  \n",
       "..         ...            ...           ...          ...            ...  \n",
       "474       2916  North America             2      October         Monday  \n",
       "475       2916  North America             0      October       Saturday  \n",
       "476       2916  North America             6     November         Monday  \n",
       "477       2916  North America             0     November         Sunday  \n",
       "478       2916  North America             4     December       Saturday  \n",
       "479       2916  North America             1     December       Thursday  \n",
       "480        826  North America             4      January         Monday  \n",
       "481        826  North America             7      January        Tuesday  \n",
       "482        826         Europe             3     February         Friday  \n",
       "483        826  North America             8     February         Monday  \n",
       "484        826  North America             4        March      Wednesday  \n",
       "485        826  North America             4        March       Thursday  \n",
       "486        826  North America             4        April         Monday  \n",
       "487        826         Africa            12        April         Sunday  \n",
       "488        826  North America             4          May         Sunday  \n",
       "489        826  North America             3          May        Tuesday  \n",
       "490        826  North America            11         June         Monday  \n",
       "491        826  North America             5         June         Sunday  \n",
       "492        826           Asia             6         July         Monday  \n",
       "493        826  North America             6         July         Monday  \n",
       "494        826  North America             7       August      Wednesday  \n",
       "495        826  North America             5       August        Tuesday  \n",
       "496        826  North America             6    September         Friday  \n",
       "497        826  North America            11    September      Wednesday  \n",
       "498        826         Europe             1      October         Monday  \n",
       "499        826         Europe             1      October         Sunday  \n",
       "500        826  North America             8     November       Thursday  \n",
       "501        826  North America             4     November       Thursday  \n",
       "502        826  North America             9     December      Wednesday  \n",
       "503        826  North America             5     December        Tuesday  \n",
       "\n",
       "[504 rows x 20 columns]>"
      ]
     },
     "execution_count": 27,
     "metadata": {},
     "output_type": "execute_result"
    }
   ],
   "source": [
    "df.info"
   ]
  },
  {
   "cell_type": "code",
   "execution_count": null,
   "metadata": {},
   "outputs": [],
   "source": []
  },
  {
   "cell_type": "code",
   "execution_count": 21,
   "metadata": {},
   "outputs": [],
   "source": [
    "import psycopg2\n",
    "import numpy as np\n",
    "import os\n",
    "import seaborn as sns\n",
    "import matplotlib.pyplot as plt\n",
    "sns.set(style=\"ticks\", color_codes=True)\n",
    "import matplotlib\n",
    "import warnings\n",
    "import yellowbrick as yb\n",
    "from pandas.plotting import scatter_matrix\n",
    "warnings.simplefilter(action='ignore', category=FutureWarning)"
   ]
  },
  {
   "cell_type": "code",
   "execution_count": 74,
   "metadata": {},
   "outputs": [
    {
     "data": {
      "text/plain": [
       "<matplotlib.axes._subplots.AxesSubplot at 0x20b03aab320>"
      ]
     },
     "execution_count": 74,
     "metadata": {},
     "output_type": "execute_result"
    },
    {
     "data": {
      "image/png": "[encoded data removed]",
      "text/plain": [
       "<Figure size 432x288 with 2 Axes>"
      ]
     },
     "metadata": {},
     "output_type": "display_data"
    }
   ],
   "source": [
    "#plt.subplots(figsize = (30,30))\n",
    "sns.heatmap(aa.corr())"
   ]
  },
  {
   "cell_type": "code",
   "execution_count": 39,
   "metadata": {},
   "outputs": [
    {
     "data": {
      "text/plain": [
       "<matplotlib.axes._subplots.AxesSubplot at 0x20b7ca73860>"
      ]
     },
     "execution_count": 39,
     "metadata": {},
     "output_type": "execute_result"
    },
    {
     "data": {
      "image/png": "[encoded data removed]",
      "text/plain": [
       "<Figure size 432x288 with 1 Axes>"
      ]
     },
     "metadata": {},
     "output_type": "display_data"
    }
   ],
   "source": [
    "sns.set(style=\"whitegrid\")\n",
    "sns.violinplot(x=\"Casino\", y=\"Score\", hue=\"Gym\" data=df, figsize = (15,15))"
   ]
  },
  {
   "cell_type": "code",
   "execution_count": 79,
   "metadata": {},
   "outputs": [
    {
     "data": {
      "text/plain": [
       "<matplotlib.axes._subplots.AxesSubplot at 0x20b04b336a0>"
      ]
     },
     "execution_count": 79,
     "metadata": {},
     "output_type": "execute_result"
    },
    {
     "data": {
      "image/png": "[encoded data removed]",
      "text/plain": [
       "<Figure size 432x288 with 1 Axes>"
      ]
     },
     "metadata": {},
     "output_type": "display_data"
    }
   ],
   "source": [
    "sns.set(style=\"whitegrid\")\n",
    "sns.violinplot(x=\"Gym\", y=\"Score\", hue=\"Casino\", data=df, figsize = (15,15))"
   ]
  },
  {
   "cell_type": "code",
   "execution_count": 76,
   "metadata": {},
   "outputs": [],
   "source": [
    "features = ['Casino', 'Gym', 'Tennis court', 'Spa', 'Pool']\n",
    "target = ['Score']\n",
    "\n",
    "y = df[target]\n",
    "X = df[features]"
   ]
  },
  {
   "cell_type": "code",
   "execution_count": 73,
   "metadata": {},
   "outputs": [],
   "source": [
    "aa = df.replace({'Pool': {'YES': 1, 'NO': 0}, 'Gym': {'YES': 1, 'NO': 0}, 'Tennis court': {'YES': 1, 'NO': 0}, 'Spa': {'YES': 1, 'NO': 0}, 'Casino': {'YES': 1, 'NO': 0}, 'Gym': {'YES': 1, 'NO': 0}})"
   ]
  },
  {
   "cell_type": "code",
   "execution_count": 84,
   "metadata": {},
   "outputs": [
    {
     "name": "stdout",
     "output_type": "stream",
     "text": [
      "Accuracy: 0.4473684210526316\n"
     ]
    }
   ],
   "source": [
    "from sklearn.tree import DecisionTreeClassifier \n",
    "from sklearn.model_selection import train_test_split\n",
    "from sklearn import metrics\n",
    "\n",
    "y = aa[target]\n",
    "X = aa[features]\n",
    "\n",
    "X_train, X_test, y_train, y_test = train_test_split(X, y, test_size=0.3, random_state=1)\n",
    "\n",
    "clf = DecisionTreeClassifier()\n",
    "clf = clf.fit(X_train,y_train)\n",
    "y_pred = clf.predict(X_test)\n",
    "\n",
    "print(\"Accuracy:\",metrics.accuracy_score(y_test, y_pred))"
   ]
  },
  {
   "cell_type": "code",
   "execution_count": 87,
   "metadata": {},
   "outputs": [
    {
     "data": {
      "text/plain": [
       "Text(0.5,1,'Comparison of different Feature Importances')"
      ]
     },
     "execution_count": 87,
     "metadata": {},
     "output_type": "execute_result"
    },
    {
     "data": {
      "image/png": "[encoded data removed]",
      "text/plain": [
       "<Figure size 432x288 with 1 Axes>"
      ]
     },
     "metadata": {},
     "output_type": "display_data"
    }
   ],
   "source": [
    "from sklearn.ensemble import ExtraTreesClassifier\n",
    "\n",
    "extra_tree_forest = ExtraTreesClassifier(n_estimators = 50) \n",
    "extra_tree_forest.fit(X, y.values.ravel()) \n",
    "feature_importance = extra_tree_forest.feature_importances_ \n",
    "feature_importance_normalized = np.std([tree.feature_importances_ for tree in extra_tree_forest.estimators_], axis = 0)\n",
    "\n",
    "plt.bar(X.columns, feature_importance_normalized) \n",
    "plt.xlabel('Feature Labels') \n",
    "plt.ylabel('Feature Importances') \n",
    "plt.title('Comparison of different Feature Importances')"
   ]
  }
 ],
 "metadata": {
  "kernelspec": {
   "display_name": "Python 3",
   "language": "python",
   "name": "python3"
  },
  "language_info": {
   "codemirror_mode": {
    "name": "ipython",
    "version": 3
   },
   "file_extension": ".py",
   "mimetype": "text/x-python",
   "name": "python",
   "nbconvert_exporter": "python",
   "pygments_lexer": "ipython3",
   "version": "3.6.5"
  }
 },
 "nbformat": 4,
 "nbformat_minor": 2
}
